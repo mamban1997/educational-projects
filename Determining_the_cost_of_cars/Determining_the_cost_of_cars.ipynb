{
 "cells": [
  {
   "cell_type": "markdown",
   "metadata": {},
   "source": [
    "# Определение стоимости автомобилей"
   ]
  },
  {
   "cell_type": "markdown",
   "metadata": {},
   "source": [
    "Сервис по продаже автомобилей с пробегом «Не бит, не крашен» разрабатывает приложение для привлечения новых клиентов. В нём можно быстро узнать рыночную стоимость своего автомобиля. В вашем распоряжении исторические данные: технические характеристики, комплектации и цены автомобилей. Вам нужно построить модель для определения стоимости. \n",
    "\n",
    "Заказчику важны:\n",
    "\n",
    "- качество предсказания;\n",
    "- скорость предсказания;\n",
    "- время обучения."
   ]
  },
  {
   "cell_type": "markdown",
   "metadata": {},
   "source": [
    "<h1>Оглавление<span class=\"tocSkip\"></span></h1>\n",
    "<div class=\"toc\"><ul class=\"toc-item\"><li><span><a href=\"#Подготовка-данных\" data-toc-modified-id=\"Подготовка-данных-1\"><span class=\"toc-item-num\">1&nbsp;&nbsp;</span>Подготовка данных</a></span></li><li><span><a href=\"#Обучение-моделей\" data-toc-modified-id=\"Обучение-моделей-2\"><span class=\"toc-item-num\">2&nbsp;&nbsp;</span>Обучение моделей</a></span></li><li><span><a href=\"#Дополнительные-исследования\" data-toc-modified-id=\"Дополнительные-исследования-3\"><span class=\"toc-item-num\">3&nbsp;&nbsp;</span>Дополнительные исследования</a></span><ul class=\"toc-item\"><li><span><a href=\"#ordinal-категоризация\" data-toc-modified-id=\"ordinal-категоризация-3.1\"><span class=\"toc-item-num\">3.1&nbsp;&nbsp;</span>ordinal-категоризация</a></span></li><li><span><a href=\"#Добавление-географии-автомобилей\" data-toc-modified-id=\"Добавление-географии-автомобилей-3.2\"><span class=\"toc-item-num\">3.2&nbsp;&nbsp;</span>Добавление географии автомобилей</a></span></li><li><span><a href=\"#Ограничение-года-выпуска-автомобилей\" data-toc-modified-id=\"Ограничение-года-выпуска-автомобилей-3.3\"><span class=\"toc-item-num\">3.3&nbsp;&nbsp;</span>Ограничение года выпуска автомобилей</a></span></li><li><span><a href=\"#Удаление-всех-пропусков-и-артефактов\" data-toc-modified-id=\"Удаление-всех-пропусков-и-артефактов-3.4\"><span class=\"toc-item-num\">3.4&nbsp;&nbsp;</span>Удаление всех пропусков и артефактов</a></span></li><li><span><a href=\"#Важность-факторов\" data-toc-modified-id=\"Важность-факторов-3.5\"><span class=\"toc-item-num\">3.5&nbsp;&nbsp;</span>Важность факторов</a></span></li></ul></li><li><span><a href=\"#Анализ-моделей\" data-toc-modified-id=\"Анализ-моделей-4\"><span class=\"toc-item-num\">4&nbsp;&nbsp;</span>Анализ моделей</a></span></li><li><span><a href=\"#Чек-лист-проверки\" data-toc-modified-id=\"Чек-лист-проверки-5\"><span class=\"toc-item-num\">5&nbsp;&nbsp;</span>Чек-лист проверки</a></span></li></ul></div>"
   ]
  },
  {
   "cell_type": "markdown",
   "metadata": {},
   "source": [
    "## Подготовка данных"
   ]
  },
  {
   "cell_type": "markdown",
   "metadata": {},
   "source": [
    "Импортируем необходимые для исследования библиотеки."
   ]
  },
  {
   "cell_type": "code",
   "execution_count": 1,
   "metadata": {},
   "outputs": [],
   "source": [
    "import pandas as pd\n",
    "import numpy as np\n",
    "import matplotlib.pyplot as plt\n",
    "import warnings\n",
    "warnings.filterwarnings(\"ignore\")\n",
    "\n",
    "from sklearn.preprocessing import StandardScaler\n",
    "from sklearn.preprocessing import OrdinalEncoder\n",
    "from sklearn.metrics import mean_squared_error\n",
    "from sklearn.model_selection import train_test_split\n",
    "\n",
    "from sklearn.linear_model import LinearRegression\n",
    "from sklearn.ensemble import RandomForestRegressor\n",
    "from sklearn.model_selection import GridSearchCV\n",
    "\n",
    "from sklearn.metrics import make_scorer\n",
    "\n",
    "\n",
    "from lightgbm import LGBMRegressor\n",
    "from lightgbm import plot_importance"
   ]
  },
  {
   "cell_type": "markdown",
   "metadata": {},
   "source": [
    "Загрузим предоставленный датасет. Выведем информацию о нем, и посмотрим первые строки.\n",
    "\n",
    "**Признаки**\n",
    "- DateCrawled — дата скачивания анкеты из базы\n",
    "- VehicleType — тип автомобильного кузова\n",
    "- RegistrationYear — год регистрации автомобиля\n",
    "- Gearbox — тип коробки передач\n",
    "- Power — мощность (л. с.)\n",
    "- Model — модель автомобиля\n",
    "- Kilometer — пробег (км)\n",
    "- RegistrationMonth — месяц регистрации автомобиля\n",
    "- FuelType — тип топлива\n",
    "- Brand — марка автомобиля\n",
    "- NotRepaired — была машина в ремонте или нет\n",
    "- DateCreated — дата создания анкеты\n",
    "- NumberOfPictures — количество фотографий автомобиля\n",
    "- PostalCode — почтовый индекс владельца анкеты (пользователя)\n",
    "- LastSeen — дата последней активности пользователя\n",
    "\n",
    "**Целевой признак:**\n",
    "- Price — цена (евро)"
   ]
  },
  {
   "cell_type": "code",
   "execution_count": 2,
   "metadata": {},
   "outputs": [
    {
     "name": "stdout",
     "output_type": "stream",
     "text": [
      "<class 'pandas.core.frame.DataFrame'>\n",
      "RangeIndex: 354369 entries, 0 to 354368\n",
      "Data columns (total 16 columns):\n",
      "DateCrawled          354369 non-null object\n",
      "Price                354369 non-null int64\n",
      "VehicleType          316879 non-null object\n",
      "RegistrationYear     354369 non-null int64\n",
      "Gearbox              334536 non-null object\n",
      "Power                354369 non-null int64\n",
      "Model                334664 non-null object\n",
      "Kilometer            354369 non-null int64\n",
      "RegistrationMonth    354369 non-null int64\n",
      "FuelType             321474 non-null object\n",
      "Brand                354369 non-null object\n",
      "NotRepaired          283215 non-null object\n",
      "DateCreated          354369 non-null object\n",
      "NumberOfPictures     354369 non-null int64\n",
      "PostalCode           354369 non-null int64\n",
      "LastSeen             354369 non-null object\n",
      "dtypes: int64(7), object(9)\n",
      "memory usage: 43.3+ MB\n"
     ]
    },
    {
     "data": {
      "text/html": [
       "<div>\n",
       "<style scoped>\n",
       "    .dataframe tbody tr th:only-of-type {\n",
       "        vertical-align: middle;\n",
       "    }\n",
       "\n",
       "    .dataframe tbody tr th {\n",
       "        vertical-align: top;\n",
       "    }\n",
       "\n",
       "    .dataframe thead th {\n",
       "        text-align: right;\n",
       "    }\n",
       "</style>\n",
       "<table border=\"1\" class=\"dataframe\">\n",
       "  <thead>\n",
       "    <tr style=\"text-align: right;\">\n",
       "      <th></th>\n",
       "      <th>DateCrawled</th>\n",
       "      <th>Price</th>\n",
       "      <th>VehicleType</th>\n",
       "      <th>RegistrationYear</th>\n",
       "      <th>Gearbox</th>\n",
       "      <th>Power</th>\n",
       "      <th>Model</th>\n",
       "      <th>Kilometer</th>\n",
       "      <th>RegistrationMonth</th>\n",
       "      <th>FuelType</th>\n",
       "      <th>Brand</th>\n",
       "      <th>NotRepaired</th>\n",
       "      <th>DateCreated</th>\n",
       "      <th>NumberOfPictures</th>\n",
       "      <th>PostalCode</th>\n",
       "      <th>LastSeen</th>\n",
       "    </tr>\n",
       "  </thead>\n",
       "  <tbody>\n",
       "    <tr>\n",
       "      <td>0</td>\n",
       "      <td>2016-03-24 11:52:17</td>\n",
       "      <td>480</td>\n",
       "      <td>NaN</td>\n",
       "      <td>1993</td>\n",
       "      <td>manual</td>\n",
       "      <td>0</td>\n",
       "      <td>golf</td>\n",
       "      <td>150000</td>\n",
       "      <td>0</td>\n",
       "      <td>petrol</td>\n",
       "      <td>volkswagen</td>\n",
       "      <td>NaN</td>\n",
       "      <td>2016-03-24 00:00:00</td>\n",
       "      <td>0</td>\n",
       "      <td>70435</td>\n",
       "      <td>2016-04-07 03:16:57</td>\n",
       "    </tr>\n",
       "    <tr>\n",
       "      <td>1</td>\n",
       "      <td>2016-03-24 10:58:45</td>\n",
       "      <td>18300</td>\n",
       "      <td>coupe</td>\n",
       "      <td>2011</td>\n",
       "      <td>manual</td>\n",
       "      <td>190</td>\n",
       "      <td>NaN</td>\n",
       "      <td>125000</td>\n",
       "      <td>5</td>\n",
       "      <td>gasoline</td>\n",
       "      <td>audi</td>\n",
       "      <td>yes</td>\n",
       "      <td>2016-03-24 00:00:00</td>\n",
       "      <td>0</td>\n",
       "      <td>66954</td>\n",
       "      <td>2016-04-07 01:46:50</td>\n",
       "    </tr>\n",
       "    <tr>\n",
       "      <td>2</td>\n",
       "      <td>2016-03-14 12:52:21</td>\n",
       "      <td>9800</td>\n",
       "      <td>suv</td>\n",
       "      <td>2004</td>\n",
       "      <td>auto</td>\n",
       "      <td>163</td>\n",
       "      <td>grand</td>\n",
       "      <td>125000</td>\n",
       "      <td>8</td>\n",
       "      <td>gasoline</td>\n",
       "      <td>jeep</td>\n",
       "      <td>NaN</td>\n",
       "      <td>2016-03-14 00:00:00</td>\n",
       "      <td>0</td>\n",
       "      <td>90480</td>\n",
       "      <td>2016-04-05 12:47:46</td>\n",
       "    </tr>\n",
       "    <tr>\n",
       "      <td>3</td>\n",
       "      <td>2016-03-17 16:54:04</td>\n",
       "      <td>1500</td>\n",
       "      <td>small</td>\n",
       "      <td>2001</td>\n",
       "      <td>manual</td>\n",
       "      <td>75</td>\n",
       "      <td>golf</td>\n",
       "      <td>150000</td>\n",
       "      <td>6</td>\n",
       "      <td>petrol</td>\n",
       "      <td>volkswagen</td>\n",
       "      <td>no</td>\n",
       "      <td>2016-03-17 00:00:00</td>\n",
       "      <td>0</td>\n",
       "      <td>91074</td>\n",
       "      <td>2016-03-17 17:40:17</td>\n",
       "    </tr>\n",
       "    <tr>\n",
       "      <td>4</td>\n",
       "      <td>2016-03-31 17:25:20</td>\n",
       "      <td>3600</td>\n",
       "      <td>small</td>\n",
       "      <td>2008</td>\n",
       "      <td>manual</td>\n",
       "      <td>69</td>\n",
       "      <td>fabia</td>\n",
       "      <td>90000</td>\n",
       "      <td>7</td>\n",
       "      <td>gasoline</td>\n",
       "      <td>skoda</td>\n",
       "      <td>no</td>\n",
       "      <td>2016-03-31 00:00:00</td>\n",
       "      <td>0</td>\n",
       "      <td>60437</td>\n",
       "      <td>2016-04-06 10:17:21</td>\n",
       "    </tr>\n",
       "  </tbody>\n",
       "</table>\n",
       "</div>"
      ],
      "text/plain": [
       "           DateCrawled  Price VehicleType  RegistrationYear Gearbox  Power  \\\n",
       "0  2016-03-24 11:52:17    480         NaN              1993  manual      0   \n",
       "1  2016-03-24 10:58:45  18300       coupe              2011  manual    190   \n",
       "2  2016-03-14 12:52:21   9800         suv              2004    auto    163   \n",
       "3  2016-03-17 16:54:04   1500       small              2001  manual     75   \n",
       "4  2016-03-31 17:25:20   3600       small              2008  manual     69   \n",
       "\n",
       "   Model  Kilometer  RegistrationMonth  FuelType       Brand NotRepaired  \\\n",
       "0   golf     150000                  0    petrol  volkswagen         NaN   \n",
       "1    NaN     125000                  5  gasoline        audi         yes   \n",
       "2  grand     125000                  8  gasoline        jeep         NaN   \n",
       "3   golf     150000                  6    petrol  volkswagen          no   \n",
       "4  fabia      90000                  7  gasoline       skoda          no   \n",
       "\n",
       "           DateCreated  NumberOfPictures  PostalCode             LastSeen  \n",
       "0  2016-03-24 00:00:00                 0       70435  2016-04-07 03:16:57  \n",
       "1  2016-03-24 00:00:00                 0       66954  2016-04-07 01:46:50  \n",
       "2  2016-03-14 00:00:00                 0       90480  2016-04-05 12:47:46  \n",
       "3  2016-03-17 00:00:00                 0       91074  2016-03-17 17:40:17  \n",
       "4  2016-03-31 00:00:00                 0       60437  2016-04-06 10:17:21  "
      ]
     },
     "execution_count": 2,
     "metadata": {},
     "output_type": "execute_result"
    }
   ],
   "source": [
    "data = pd.read_csv(\"/datasets/autos.csv\")\n",
    "data.info()\n",
    "data.head()"
   ]
  },
  {
   "cell_type": "markdown",
   "metadata": {},
   "source": [
    "В датасете присутствую пропуски. Посмотрим на их количество."
   ]
  },
  {
   "cell_type": "code",
   "execution_count": 3,
   "metadata": {},
   "outputs": [
    {
     "data": {
      "text/plain": [
       "DateCrawled              0\n",
       "Price                    0\n",
       "VehicleType          37490\n",
       "RegistrationYear         0\n",
       "Gearbox              19833\n",
       "Power                    0\n",
       "Model                19705\n",
       "Kilometer                0\n",
       "RegistrationMonth        0\n",
       "FuelType             32895\n",
       "Brand                    0\n",
       "NotRepaired          71154\n",
       "DateCreated              0\n",
       "NumberOfPictures         0\n",
       "PostalCode               0\n",
       "LastSeen                 0\n",
       "dtype: int64"
      ]
     },
     "execution_count": 3,
     "metadata": {},
     "output_type": "execute_result"
    }
   ],
   "source": [
    "data.isna().sum()"
   ]
  },
  {
   "cell_type": "markdown",
   "metadata": {},
   "source": [
    "Для дальнейшего удобства переведем название столбцов в нижний регистр."
   ]
  },
  {
   "cell_type": "code",
   "execution_count": 4,
   "metadata": {},
   "outputs": [],
   "source": [
    "data.columns = [x.lower() for x in data.columns]"
   ]
  },
  {
   "cell_type": "markdown",
   "metadata": {},
   "source": [
    "Самый критичный параметр из пропущенных - марка автомобиля. Просмотрим строки с пропущенной маркой."
   ]
  },
  {
   "cell_type": "code",
   "execution_count": 5,
   "metadata": {
    "scrolled": true
   },
   "outputs": [
    {
     "data": {
      "text/html": [
       "<div>\n",
       "<style scoped>\n",
       "    .dataframe tbody tr th:only-of-type {\n",
       "        vertical-align: middle;\n",
       "    }\n",
       "\n",
       "    .dataframe tbody tr th {\n",
       "        vertical-align: top;\n",
       "    }\n",
       "\n",
       "    .dataframe thead th {\n",
       "        text-align: right;\n",
       "    }\n",
       "</style>\n",
       "<table border=\"1\" class=\"dataframe\">\n",
       "  <thead>\n",
       "    <tr style=\"text-align: right;\">\n",
       "      <th></th>\n",
       "      <th>datecrawled</th>\n",
       "      <th>price</th>\n",
       "      <th>vehicletype</th>\n",
       "      <th>registrationyear</th>\n",
       "      <th>gearbox</th>\n",
       "      <th>power</th>\n",
       "      <th>model</th>\n",
       "      <th>kilometer</th>\n",
       "      <th>registrationmonth</th>\n",
       "      <th>fueltype</th>\n",
       "      <th>brand</th>\n",
       "      <th>notrepaired</th>\n",
       "      <th>datecreated</th>\n",
       "      <th>numberofpictures</th>\n",
       "      <th>postalcode</th>\n",
       "      <th>lastseen</th>\n",
       "    </tr>\n",
       "  </thead>\n",
       "  <tbody>\n",
       "    <tr>\n",
       "      <td>1</td>\n",
       "      <td>2016-03-24 10:58:45</td>\n",
       "      <td>18300</td>\n",
       "      <td>coupe</td>\n",
       "      <td>2011</td>\n",
       "      <td>manual</td>\n",
       "      <td>190</td>\n",
       "      <td>NaN</td>\n",
       "      <td>125000</td>\n",
       "      <td>5</td>\n",
       "      <td>gasoline</td>\n",
       "      <td>audi</td>\n",
       "      <td>yes</td>\n",
       "      <td>2016-03-24 00:00:00</td>\n",
       "      <td>0</td>\n",
       "      <td>66954</td>\n",
       "      <td>2016-04-07 01:46:50</td>\n",
       "    </tr>\n",
       "    <tr>\n",
       "      <td>59</td>\n",
       "      <td>2016-03-29 15:48:15</td>\n",
       "      <td>1</td>\n",
       "      <td>suv</td>\n",
       "      <td>1994</td>\n",
       "      <td>manual</td>\n",
       "      <td>286</td>\n",
       "      <td>NaN</td>\n",
       "      <td>150000</td>\n",
       "      <td>11</td>\n",
       "      <td>NaN</td>\n",
       "      <td>sonstige_autos</td>\n",
       "      <td>NaN</td>\n",
       "      <td>2016-03-29 00:00:00</td>\n",
       "      <td>0</td>\n",
       "      <td>53721</td>\n",
       "      <td>2016-04-06 01:44:38</td>\n",
       "    </tr>\n",
       "    <tr>\n",
       "      <td>81</td>\n",
       "      <td>2016-04-03 12:56:45</td>\n",
       "      <td>350</td>\n",
       "      <td>small</td>\n",
       "      <td>1997</td>\n",
       "      <td>manual</td>\n",
       "      <td>54</td>\n",
       "      <td>NaN</td>\n",
       "      <td>150000</td>\n",
       "      <td>3</td>\n",
       "      <td>NaN</td>\n",
       "      <td>fiat</td>\n",
       "      <td>yes</td>\n",
       "      <td>2016-04-03 00:00:00</td>\n",
       "      <td>0</td>\n",
       "      <td>45665</td>\n",
       "      <td>2016-04-05 11:47:13</td>\n",
       "    </tr>\n",
       "    <tr>\n",
       "      <td>115</td>\n",
       "      <td>2016-03-20 18:53:27</td>\n",
       "      <td>0</td>\n",
       "      <td>small</td>\n",
       "      <td>1999</td>\n",
       "      <td>NaN</td>\n",
       "      <td>0</td>\n",
       "      <td>NaN</td>\n",
       "      <td>5000</td>\n",
       "      <td>0</td>\n",
       "      <td>petrol</td>\n",
       "      <td>volkswagen</td>\n",
       "      <td>NaN</td>\n",
       "      <td>2016-03-20 00:00:00</td>\n",
       "      <td>0</td>\n",
       "      <td>37520</td>\n",
       "      <td>2016-04-07 02:45:22</td>\n",
       "    </tr>\n",
       "    <tr>\n",
       "      <td>135</td>\n",
       "      <td>2016-03-27 20:51:23</td>\n",
       "      <td>1450</td>\n",
       "      <td>sedan</td>\n",
       "      <td>1992</td>\n",
       "      <td>manual</td>\n",
       "      <td>136</td>\n",
       "      <td>NaN</td>\n",
       "      <td>150000</td>\n",
       "      <td>0</td>\n",
       "      <td>NaN</td>\n",
       "      <td>audi</td>\n",
       "      <td>no</td>\n",
       "      <td>2016-03-27 00:00:00</td>\n",
       "      <td>0</td>\n",
       "      <td>38709</td>\n",
       "      <td>2016-04-05 20:17:31</td>\n",
       "    </tr>\n",
       "  </tbody>\n",
       "</table>\n",
       "</div>"
      ],
      "text/plain": [
       "             datecrawled  price vehicletype  registrationyear gearbox  power  \\\n",
       "1    2016-03-24 10:58:45  18300       coupe              2011  manual    190   \n",
       "59   2016-03-29 15:48:15      1         suv              1994  manual    286   \n",
       "81   2016-04-03 12:56:45    350       small              1997  manual     54   \n",
       "115  2016-03-20 18:53:27      0       small              1999     NaN      0   \n",
       "135  2016-03-27 20:51:23   1450       sedan              1992  manual    136   \n",
       "\n",
       "    model  kilometer  registrationmonth  fueltype           brand notrepaired  \\\n",
       "1     NaN     125000                  5  gasoline            audi         yes   \n",
       "59    NaN     150000                 11       NaN  sonstige_autos         NaN   \n",
       "81    NaN     150000                  3       NaN            fiat         yes   \n",
       "115   NaN       5000                  0    petrol      volkswagen         NaN   \n",
       "135   NaN     150000                  0       NaN            audi          no   \n",
       "\n",
       "             datecreated  numberofpictures  postalcode             lastseen  \n",
       "1    2016-03-24 00:00:00                 0       66954  2016-04-07 01:46:50  \n",
       "59   2016-03-29 00:00:00                 0       53721  2016-04-06 01:44:38  \n",
       "81   2016-04-03 00:00:00                 0       45665  2016-04-05 11:47:13  \n",
       "115  2016-03-20 00:00:00                 0       37520  2016-04-07 02:45:22  \n",
       "135  2016-03-27 00:00:00                 0       38709  2016-04-05 20:17:31  "
      ]
     },
     "execution_count": 5,
     "metadata": {},
     "output_type": "execute_result"
    }
   ],
   "source": [
    "data[data['model'].isna()].head()"
   ]
  },
  {
   "cell_type": "markdown",
   "metadata": {},
   "source": [
    "Можно заметить, что в выборке присутствуют автомобили ценой 0 и 1 евро, а также значение 0 в столбце `power`.\n",
    "\n",
    "Просмотрим автомобили одного бренда с пропущенной маркой."
   ]
  },
  {
   "cell_type": "code",
   "execution_count": 6,
   "metadata": {
    "scrolled": true
   },
   "outputs": [
    {
     "data": {
      "text/html": [
       "<div>\n",
       "<style scoped>\n",
       "    .dataframe tbody tr th:only-of-type {\n",
       "        vertical-align: middle;\n",
       "    }\n",
       "\n",
       "    .dataframe tbody tr th {\n",
       "        vertical-align: top;\n",
       "    }\n",
       "\n",
       "    .dataframe thead th {\n",
       "        text-align: right;\n",
       "    }\n",
       "</style>\n",
       "<table border=\"1\" class=\"dataframe\">\n",
       "  <thead>\n",
       "    <tr style=\"text-align: right;\">\n",
       "      <th></th>\n",
       "      <th>datecrawled</th>\n",
       "      <th>price</th>\n",
       "      <th>vehicletype</th>\n",
       "      <th>registrationyear</th>\n",
       "      <th>gearbox</th>\n",
       "      <th>power</th>\n",
       "      <th>model</th>\n",
       "      <th>kilometer</th>\n",
       "      <th>registrationmonth</th>\n",
       "      <th>fueltype</th>\n",
       "      <th>brand</th>\n",
       "      <th>notrepaired</th>\n",
       "      <th>datecreated</th>\n",
       "      <th>numberofpictures</th>\n",
       "      <th>postalcode</th>\n",
       "      <th>lastseen</th>\n",
       "    </tr>\n",
       "  </thead>\n",
       "  <tbody>\n",
       "    <tr>\n",
       "      <td>1</td>\n",
       "      <td>2016-03-24 10:58:45</td>\n",
       "      <td>18300</td>\n",
       "      <td>coupe</td>\n",
       "      <td>2011</td>\n",
       "      <td>manual</td>\n",
       "      <td>190</td>\n",
       "      <td>NaN</td>\n",
       "      <td>125000</td>\n",
       "      <td>5</td>\n",
       "      <td>gasoline</td>\n",
       "      <td>audi</td>\n",
       "      <td>yes</td>\n",
       "      <td>2016-03-24 00:00:00</td>\n",
       "      <td>0</td>\n",
       "      <td>66954</td>\n",
       "      <td>2016-04-07 01:46:50</td>\n",
       "    </tr>\n",
       "    <tr>\n",
       "      <td>135</td>\n",
       "      <td>2016-03-27 20:51:23</td>\n",
       "      <td>1450</td>\n",
       "      <td>sedan</td>\n",
       "      <td>1992</td>\n",
       "      <td>manual</td>\n",
       "      <td>136</td>\n",
       "      <td>NaN</td>\n",
       "      <td>150000</td>\n",
       "      <td>0</td>\n",
       "      <td>NaN</td>\n",
       "      <td>audi</td>\n",
       "      <td>no</td>\n",
       "      <td>2016-03-27 00:00:00</td>\n",
       "      <td>0</td>\n",
       "      <td>38709</td>\n",
       "      <td>2016-04-05 20:17:31</td>\n",
       "    </tr>\n",
       "    <tr>\n",
       "      <td>273</td>\n",
       "      <td>2016-03-29 23:38:02</td>\n",
       "      <td>1500</td>\n",
       "      <td>coupe</td>\n",
       "      <td>1994</td>\n",
       "      <td>manual</td>\n",
       "      <td>116</td>\n",
       "      <td>NaN</td>\n",
       "      <td>150000</td>\n",
       "      <td>8</td>\n",
       "      <td>NaN</td>\n",
       "      <td>audi</td>\n",
       "      <td>no</td>\n",
       "      <td>2016-03-29 00:00:00</td>\n",
       "      <td>0</td>\n",
       "      <td>32791</td>\n",
       "      <td>2016-04-06 20:16:34</td>\n",
       "    </tr>\n",
       "    <tr>\n",
       "      <td>478</td>\n",
       "      <td>2016-03-24 17:49:19</td>\n",
       "      <td>0</td>\n",
       "      <td>NaN</td>\n",
       "      <td>2000</td>\n",
       "      <td>manual</td>\n",
       "      <td>0</td>\n",
       "      <td>NaN</td>\n",
       "      <td>150000</td>\n",
       "      <td>0</td>\n",
       "      <td>NaN</td>\n",
       "      <td>audi</td>\n",
       "      <td>yes</td>\n",
       "      <td>2016-03-24 00:00:00</td>\n",
       "      <td>0</td>\n",
       "      <td>72514</td>\n",
       "      <td>2016-03-29 03:45:06</td>\n",
       "    </tr>\n",
       "    <tr>\n",
       "      <td>644</td>\n",
       "      <td>2016-03-27 22:52:02</td>\n",
       "      <td>2200</td>\n",
       "      <td>sedan</td>\n",
       "      <td>1995</td>\n",
       "      <td>auto</td>\n",
       "      <td>299</td>\n",
       "      <td>NaN</td>\n",
       "      <td>150000</td>\n",
       "      <td>5</td>\n",
       "      <td>NaN</td>\n",
       "      <td>audi</td>\n",
       "      <td>yes</td>\n",
       "      <td>2016-03-27 00:00:00</td>\n",
       "      <td>0</td>\n",
       "      <td>74182</td>\n",
       "      <td>2016-04-05 23:47:17</td>\n",
       "    </tr>\n",
       "    <tr>\n",
       "      <td>1172</td>\n",
       "      <td>2016-03-17 09:38:12</td>\n",
       "      <td>4600</td>\n",
       "      <td>NaN</td>\n",
       "      <td>2017</td>\n",
       "      <td>manual</td>\n",
       "      <td>131</td>\n",
       "      <td>NaN</td>\n",
       "      <td>150000</td>\n",
       "      <td>6</td>\n",
       "      <td>NaN</td>\n",
       "      <td>audi</td>\n",
       "      <td>NaN</td>\n",
       "      <td>2016-03-17 00:00:00</td>\n",
       "      <td>0</td>\n",
       "      <td>45529</td>\n",
       "      <td>2016-04-06 07:44:21</td>\n",
       "    </tr>\n",
       "    <tr>\n",
       "      <td>1851</td>\n",
       "      <td>2016-04-01 10:50:32</td>\n",
       "      <td>7500</td>\n",
       "      <td>wagon</td>\n",
       "      <td>2005</td>\n",
       "      <td>manual</td>\n",
       "      <td>179</td>\n",
       "      <td>NaN</td>\n",
       "      <td>150000</td>\n",
       "      <td>5</td>\n",
       "      <td>gasoline</td>\n",
       "      <td>audi</td>\n",
       "      <td>no</td>\n",
       "      <td>2016-04-01 00:00:00</td>\n",
       "      <td>0</td>\n",
       "      <td>91126</td>\n",
       "      <td>2016-04-07 07:46:03</td>\n",
       "    </tr>\n",
       "  </tbody>\n",
       "</table>\n",
       "</div>"
      ],
      "text/plain": [
       "              datecrawled  price vehicletype  registrationyear gearbox  power  \\\n",
       "1     2016-03-24 10:58:45  18300       coupe              2011  manual    190   \n",
       "135   2016-03-27 20:51:23   1450       sedan              1992  manual    136   \n",
       "273   2016-03-29 23:38:02   1500       coupe              1994  manual    116   \n",
       "478   2016-03-24 17:49:19      0         NaN              2000  manual      0   \n",
       "644   2016-03-27 22:52:02   2200       sedan              1995    auto    299   \n",
       "1172  2016-03-17 09:38:12   4600         NaN              2017  manual    131   \n",
       "1851  2016-04-01 10:50:32   7500       wagon              2005  manual    179   \n",
       "\n",
       "     model  kilometer  registrationmonth  fueltype brand notrepaired  \\\n",
       "1      NaN     125000                  5  gasoline  audi         yes   \n",
       "135    NaN     150000                  0       NaN  audi          no   \n",
       "273    NaN     150000                  8       NaN  audi          no   \n",
       "478    NaN     150000                  0       NaN  audi         yes   \n",
       "644    NaN     150000                  5       NaN  audi         yes   \n",
       "1172   NaN     150000                  6       NaN  audi         NaN   \n",
       "1851   NaN     150000                  5  gasoline  audi          no   \n",
       "\n",
       "              datecreated  numberofpictures  postalcode             lastseen  \n",
       "1     2016-03-24 00:00:00                 0       66954  2016-04-07 01:46:50  \n",
       "135   2016-03-27 00:00:00                 0       38709  2016-04-05 20:17:31  \n",
       "273   2016-03-29 00:00:00                 0       32791  2016-04-06 20:16:34  \n",
       "478   2016-03-24 00:00:00                 0       72514  2016-03-29 03:45:06  \n",
       "644   2016-03-27 00:00:00                 0       74182  2016-04-05 23:47:17  \n",
       "1172  2016-03-17 00:00:00                 0       45529  2016-04-06 07:44:21  \n",
       "1851  2016-04-01 00:00:00                 0       91126  2016-04-07 07:46:03  "
      ]
     },
     "execution_count": 6,
     "metadata": {},
     "output_type": "execute_result"
    }
   ],
   "source": [
    "data[(data['model'].isna()) & (data['brand']=='audi')].head(7)"
   ]
  },
  {
   "cell_type": "markdown",
   "metadata": {},
   "source": [
    "Никакой логики в пропущенной марке не наблюдается.\n",
    "\n",
    "Можно было бы воспользоваться машинным обучением, и по бренду, типу кузова и году выпуска предсказать модель автомобиля. Но вместо этого просто отбросим все строки с неизвестной маркой."
   ]
  },
  {
   "cell_type": "code",
   "execution_count": 7,
   "metadata": {},
   "outputs": [
    {
     "data": {
      "text/plain": [
       "datecrawled              0\n",
       "price                    0\n",
       "vehicletype          30662\n",
       "registrationyear         0\n",
       "gearbox              15702\n",
       "power                    0\n",
       "model                    0\n",
       "kilometer                0\n",
       "registrationmonth        0\n",
       "fueltype             25732\n",
       "brand                    0\n",
       "notrepaired          62100\n",
       "datecreated              0\n",
       "numberofpictures         0\n",
       "postalcode               0\n",
       "lastseen                 0\n",
       "dtype: int64"
      ]
     },
     "execution_count": 7,
     "metadata": {},
     "output_type": "execute_result"
    }
   ],
   "source": [
    "data = data.dropna(subset=['model'], axis=0)\n",
    "data.isna().sum()"
   ]
  },
  {
   "cell_type": "markdown",
   "metadata": {},
   "source": [
    "Количество пропусков в других признаках уменьшилось.\n",
    "\n",
    "Теперь проанализируем типы коробки передач. Для этого составим сводную таблицу."
   ]
  },
  {
   "cell_type": "code",
   "execution_count": 8,
   "metadata": {},
   "outputs": [
    {
     "data": {
      "text/html": [
       "<div>\n",
       "<style scoped>\n",
       "    .dataframe tbody tr th:only-of-type {\n",
       "        vertical-align: middle;\n",
       "    }\n",
       "\n",
       "    .dataframe tbody tr th {\n",
       "        vertical-align: top;\n",
       "    }\n",
       "\n",
       "    .dataframe thead th {\n",
       "        text-align: right;\n",
       "    }\n",
       "</style>\n",
       "<table border=\"1\" class=\"dataframe\">\n",
       "  <thead>\n",
       "    <tr style=\"text-align: right;\">\n",
       "      <th></th>\n",
       "      <th>gearbox</th>\n",
       "      <th>auto</th>\n",
       "      <th>manual</th>\n",
       "      <th>неизвестно</th>\n",
       "    </tr>\n",
       "    <tr>\n",
       "      <th>brand</th>\n",
       "      <th>model</th>\n",
       "      <th></th>\n",
       "      <th></th>\n",
       "      <th></th>\n",
       "    </tr>\n",
       "  </thead>\n",
       "  <tbody>\n",
       "    <tr>\n",
       "      <td>volkswagen</td>\n",
       "      <td>golf</td>\n",
       "      <td>3005.0</td>\n",
       "      <td>24752.0</td>\n",
       "      <td>1475.0</td>\n",
       "    </tr>\n",
       "    <tr>\n",
       "      <td>smart</td>\n",
       "      <td>fortwo</td>\n",
       "      <td>3175.0</td>\n",
       "      <td>376.0</td>\n",
       "      <td>786.0</td>\n",
       "    </tr>\n",
       "    <tr>\n",
       "      <td>opel</td>\n",
       "      <td>corsa</td>\n",
       "      <td>608.0</td>\n",
       "      <td>11183.0</td>\n",
       "      <td>779.0</td>\n",
       "    </tr>\n",
       "    <tr>\n",
       "      <td>volkswagen</td>\n",
       "      <td>polo</td>\n",
       "      <td>474.0</td>\n",
       "      <td>11860.0</td>\n",
       "      <td>732.0</td>\n",
       "    </tr>\n",
       "    <tr>\n",
       "      <td>bmw</td>\n",
       "      <td>3er</td>\n",
       "      <td>3780.0</td>\n",
       "      <td>15306.0</td>\n",
       "      <td>675.0</td>\n",
       "    </tr>\n",
       "    <tr>\n",
       "      <td>opel</td>\n",
       "      <td>astra</td>\n",
       "      <td>820.0</td>\n",
       "      <td>9537.0</td>\n",
       "      <td>452.0</td>\n",
       "    </tr>\n",
       "    <tr>\n",
       "      <td>volkswagen</td>\n",
       "      <td>passat</td>\n",
       "      <td>2223.0</td>\n",
       "      <td>7478.0</td>\n",
       "      <td>445.0</td>\n",
       "    </tr>\n",
       "    <tr>\n",
       "      <td>renault</td>\n",
       "      <td>twingo</td>\n",
       "      <td>187.0</td>\n",
       "      <td>4342.0</td>\n",
       "      <td>424.0</td>\n",
       "    </tr>\n",
       "    <tr>\n",
       "      <td rowspan=\"2\" valign=\"top\">audi</td>\n",
       "      <td>a4</td>\n",
       "      <td>2321.0</td>\n",
       "      <td>7193.0</td>\n",
       "      <td>386.0</td>\n",
       "    </tr>\n",
       "    <tr>\n",
       "      <td>a3</td>\n",
       "      <td>850.0</td>\n",
       "      <td>4956.0</td>\n",
       "      <td>316.0</td>\n",
       "    </tr>\n",
       "  </tbody>\n",
       "</table>\n",
       "</div>"
      ],
      "text/plain": [
       "gearbox              auto   manual  неизвестно\n",
       "brand      model                              \n",
       "volkswagen golf    3005.0  24752.0      1475.0\n",
       "smart      fortwo  3175.0    376.0       786.0\n",
       "opel       corsa    608.0  11183.0       779.0\n",
       "volkswagen polo     474.0  11860.0       732.0\n",
       "bmw        3er     3780.0  15306.0       675.0\n",
       "opel       astra    820.0   9537.0       452.0\n",
       "volkswagen passat  2223.0   7478.0       445.0\n",
       "renault    twingo   187.0   4342.0       424.0\n",
       "audi       a4      2321.0   7193.0       386.0\n",
       "           a3       850.0   4956.0       316.0"
      ]
     },
     "execution_count": 8,
     "metadata": {},
     "output_type": "execute_result"
    }
   ],
   "source": [
    "(data.fillna('неизвестно')\n",
    "    .pivot_table(index=['brand','model'], columns = ['gearbox'], values = 'price', aggfunc='count')\n",
    "    .sort_values('неизвестно', ascending = False).head(10))"
   ]
  },
  {
   "cell_type": "markdown",
   "metadata": {},
   "source": [
    "Из сводной таблицы видно, что в основном у каждой модели авто преобладает определенный тип коробки передач. Все неизвестные просто отнесем к самому популярному виду.\n",
    "\n",
    "Для начала определим самый популярный тип трансмиссии на автомобиле конкретной марки."
   ]
  },
  {
   "cell_type": "code",
   "execution_count": 9,
   "metadata": {},
   "outputs": [
    {
     "data": {
      "text/html": [
       "<div>\n",
       "<style scoped>\n",
       "    .dataframe tbody tr th:only-of-type {\n",
       "        vertical-align: middle;\n",
       "    }\n",
       "\n",
       "    .dataframe tbody tr th {\n",
       "        vertical-align: top;\n",
       "    }\n",
       "\n",
       "    .dataframe thead th {\n",
       "        text-align: right;\n",
       "    }\n",
       "</style>\n",
       "<table border=\"1\" class=\"dataframe\">\n",
       "  <thead>\n",
       "    <tr style=\"text-align: right;\">\n",
       "      <th>gearbox</th>\n",
       "      <th>brand</th>\n",
       "      <th>model</th>\n",
       "      <th>auto</th>\n",
       "      <th>manual</th>\n",
       "      <th>Неизвестно</th>\n",
       "      <th>prevailing_gearbox</th>\n",
       "    </tr>\n",
       "  </thead>\n",
       "  <tbody>\n",
       "    <tr>\n",
       "      <td>0</td>\n",
       "      <td>volkswagen</td>\n",
       "      <td>golf</td>\n",
       "      <td>3005.0</td>\n",
       "      <td>24752.0</td>\n",
       "      <td>1475.0</td>\n",
       "      <td>manual</td>\n",
       "    </tr>\n",
       "    <tr>\n",
       "      <td>1</td>\n",
       "      <td>smart</td>\n",
       "      <td>fortwo</td>\n",
       "      <td>3175.0</td>\n",
       "      <td>376.0</td>\n",
       "      <td>786.0</td>\n",
       "      <td>auto</td>\n",
       "    </tr>\n",
       "    <tr>\n",
       "      <td>2</td>\n",
       "      <td>opel</td>\n",
       "      <td>corsa</td>\n",
       "      <td>608.0</td>\n",
       "      <td>11183.0</td>\n",
       "      <td>779.0</td>\n",
       "      <td>manual</td>\n",
       "    </tr>\n",
       "    <tr>\n",
       "      <td>3</td>\n",
       "      <td>volkswagen</td>\n",
       "      <td>polo</td>\n",
       "      <td>474.0</td>\n",
       "      <td>11860.0</td>\n",
       "      <td>732.0</td>\n",
       "      <td>manual</td>\n",
       "    </tr>\n",
       "    <tr>\n",
       "      <td>4</td>\n",
       "      <td>bmw</td>\n",
       "      <td>3er</td>\n",
       "      <td>3780.0</td>\n",
       "      <td>15306.0</td>\n",
       "      <td>675.0</td>\n",
       "      <td>manual</td>\n",
       "    </tr>\n",
       "  </tbody>\n",
       "</table>\n",
       "</div>"
      ],
      "text/plain": [
       "gearbox       brand   model    auto   manual  Неизвестно prevailing_gearbox\n",
       "0        volkswagen    golf  3005.0  24752.0      1475.0             manual\n",
       "1             smart  fortwo  3175.0    376.0       786.0               auto\n",
       "2              opel   corsa   608.0  11183.0       779.0             manual\n",
       "3        volkswagen    polo   474.0  11860.0       732.0             manual\n",
       "4               bmw     3er  3780.0  15306.0       675.0             manual"
      ]
     },
     "execution_count": 9,
     "metadata": {},
     "output_type": "execute_result"
    }
   ],
   "source": [
    "gearbox = (data.fillna('Неизвестно')\n",
    "    .pivot_table(index=['brand','model'], columns = ['gearbox'], values = 'price', aggfunc='count')\n",
    "    .sort_values('Неизвестно', ascending = False).reset_index())\n",
    "\n",
    "def ger(string):\n",
    "    if string['auto'] > string['manual']:\n",
    "        return 'auto'\n",
    "    else:\n",
    "        return 'manual'\n",
    "gearbox['prevailing_gearbox'] = gearbox.apply(ger, axis = 1)\n",
    "gearbox.head()"
   ]
  },
  {
   "cell_type": "markdown",
   "metadata": {},
   "source": [
    "Все работает правильно. Теперь определим словарь значений и заполним им пропуски в таблице `data`."
   ]
  },
  {
   "cell_type": "code",
   "execution_count": 10,
   "metadata": {},
   "outputs": [],
   "source": [
    "dict_gearbox = gearbox.set_index(['brand', 'model'])['prevailing_gearbox'].to_dict()"
   ]
  },
  {
   "cell_type": "markdown",
   "metadata": {},
   "source": [
    "Ключем к словарю является множество:"
   ]
  },
  {
   "cell_type": "code",
   "execution_count": 11,
   "metadata": {
    "scrolled": true
   },
   "outputs": [
    {
     "data": {
      "text/plain": [
       "'manual'"
      ]
     },
     "execution_count": 11,
     "metadata": {},
     "output_type": "execute_result"
    }
   ],
   "source": [
    "dict_gearbox[('volkswagen', 'golf')]"
   ]
  },
  {
   "cell_type": "markdown",
   "metadata": {},
   "source": [
    "Напишем функцию для установки значений из словаря и применим ее."
   ]
  },
  {
   "cell_type": "code",
   "execution_count": 12,
   "metadata": {
    "scrolled": true
   },
   "outputs": [
    {
     "name": "stdout",
     "output_type": "stream",
     "text": [
      "CPU times: user 11 s, sys: 75.3 ms, total: 11 s\n",
      "Wall time: 11.4 s\n"
     ]
    },
    {
     "data": {
      "text/plain": [
       "datecrawled              0\n",
       "price                    0\n",
       "vehicletype          30662\n",
       "registrationyear         0\n",
       "gearbox                  0\n",
       "power                    0\n",
       "model                    0\n",
       "kilometer                0\n",
       "registrationmonth        0\n",
       "fueltype             25732\n",
       "brand                    0\n",
       "notrepaired          62100\n",
       "datecreated              0\n",
       "numberofpictures         0\n",
       "postalcode               0\n",
       "lastseen                 0\n",
       "dtype: int64"
      ]
     },
     "execution_count": 12,
     "metadata": {},
     "output_type": "execute_result"
    }
   ],
   "source": [
    "%%time\n",
    "def set_gearbox(string):\n",
    "    if string['gearbox']!=string['gearbox']: #проверка на Nan\n",
    "        try:\n",
    "            return dict_gearbox[(string['brand'], string['model'])]\n",
    "        except:\n",
    "            return np.nan\n",
    "    else:\n",
    "        return string['gearbox']\n",
    "data['gearbox'] = data.apply(set_gearbox ,axis=1)\n",
    "data.isna().sum()"
   ]
  },
  {
   "cell_type": "markdown",
   "metadata": {},
   "source": [
    "Пропуски из признака `gearbox` исчезли. Аналогичным образом избавимся от пропусков в признаках `vehicletype` и `fueltype`.\n",
    "\n",
    "Начнем с `fueltype`:"
   ]
  },
  {
   "cell_type": "code",
   "execution_count": 13,
   "metadata": {},
   "outputs": [
    {
     "data": {
      "text/html": [
       "<div>\n",
       "<style scoped>\n",
       "    .dataframe tbody tr th:only-of-type {\n",
       "        vertical-align: middle;\n",
       "    }\n",
       "\n",
       "    .dataframe tbody tr th {\n",
       "        vertical-align: top;\n",
       "    }\n",
       "\n",
       "    .dataframe thead th {\n",
       "        text-align: right;\n",
       "    }\n",
       "</style>\n",
       "<table border=\"1\" class=\"dataframe\">\n",
       "  <thead>\n",
       "    <tr style=\"text-align: right;\">\n",
       "      <th>fueltype</th>\n",
       "      <th>brand</th>\n",
       "      <th>model</th>\n",
       "      <th>cng</th>\n",
       "      <th>electric</th>\n",
       "      <th>gasoline</th>\n",
       "      <th>hybrid</th>\n",
       "      <th>lpg</th>\n",
       "      <th>other</th>\n",
       "      <th>petrol</th>\n",
       "      <th>Неизвестно</th>\n",
       "      <th>prevailing_fueltype</th>\n",
       "    </tr>\n",
       "  </thead>\n",
       "  <tbody>\n",
       "    <tr>\n",
       "      <td>0</td>\n",
       "      <td>volkswagen</td>\n",
       "      <td>golf</td>\n",
       "      <td>23.0</td>\n",
       "      <td>3.0</td>\n",
       "      <td>7096.0</td>\n",
       "      <td>1.0</td>\n",
       "      <td>172.0</td>\n",
       "      <td>8.0</td>\n",
       "      <td>19499.0</td>\n",
       "      <td>2430.0</td>\n",
       "      <td>petrol</td>\n",
       "    </tr>\n",
       "    <tr>\n",
       "      <td>1</td>\n",
       "      <td>bmw</td>\n",
       "      <td>3er</td>\n",
       "      <td>5.0</td>\n",
       "      <td>1.0</td>\n",
       "      <td>4888.0</td>\n",
       "      <td>NaN</td>\n",
       "      <td>335.0</td>\n",
       "      <td>3.0</td>\n",
       "      <td>13199.0</td>\n",
       "      <td>1330.0</td>\n",
       "      <td>petrol</td>\n",
       "    </tr>\n",
       "    <tr>\n",
       "      <td>2</td>\n",
       "      <td>volkswagen</td>\n",
       "      <td>polo</td>\n",
       "      <td>4.0</td>\n",
       "      <td>NaN</td>\n",
       "      <td>1269.0</td>\n",
       "      <td>1.0</td>\n",
       "      <td>48.0</td>\n",
       "      <td>1.0</td>\n",
       "      <td>10418.0</td>\n",
       "      <td>1325.0</td>\n",
       "      <td>petrol</td>\n",
       "    </tr>\n",
       "    <tr>\n",
       "      <td>3</td>\n",
       "      <td>opel</td>\n",
       "      <td>corsa</td>\n",
       "      <td>5.0</td>\n",
       "      <td>NaN</td>\n",
       "      <td>666.0</td>\n",
       "      <td>2.0</td>\n",
       "      <td>63.0</td>\n",
       "      <td>4.0</td>\n",
       "      <td>10514.0</td>\n",
       "      <td>1316.0</td>\n",
       "      <td>petrol</td>\n",
       "    </tr>\n",
       "    <tr>\n",
       "      <td>4</td>\n",
       "      <td>opel</td>\n",
       "      <td>astra</td>\n",
       "      <td>17.0</td>\n",
       "      <td>1.0</td>\n",
       "      <td>1847.0</td>\n",
       "      <td>2.0</td>\n",
       "      <td>168.0</td>\n",
       "      <td>5.0</td>\n",
       "      <td>7746.0</td>\n",
       "      <td>1023.0</td>\n",
       "      <td>petrol</td>\n",
       "    </tr>\n",
       "  </tbody>\n",
       "</table>\n",
       "</div>"
      ],
      "text/plain": [
       "fueltype       brand  model   cng  electric  gasoline  hybrid    lpg  other  \\\n",
       "0         volkswagen   golf  23.0       3.0    7096.0     1.0  172.0    8.0   \n",
       "1                bmw    3er   5.0       1.0    4888.0     NaN  335.0    3.0   \n",
       "2         volkswagen   polo   4.0       NaN    1269.0     1.0   48.0    1.0   \n",
       "3               opel  corsa   5.0       NaN     666.0     2.0   63.0    4.0   \n",
       "4               opel  astra  17.0       1.0    1847.0     2.0  168.0    5.0   \n",
       "\n",
       "fueltype   petrol  Неизвестно prevailing_fueltype  \n",
       "0         19499.0      2430.0              petrol  \n",
       "1         13199.0      1330.0              petrol  \n",
       "2         10418.0      1325.0              petrol  \n",
       "3         10514.0      1316.0              petrol  \n",
       "4          7746.0      1023.0              petrol  "
      ]
     },
     "execution_count": 13,
     "metadata": {},
     "output_type": "execute_result"
    }
   ],
   "source": [
    "fueltype = (data.fillna('Неизвестно')\n",
    "    .pivot_table(index=['brand','model'], columns = ['fueltype'], values = 'price', aggfunc='count')\n",
    "    .sort_values('Неизвестно', ascending = False).reset_index())\n",
    "fueltype['prevailing_fueltype'] = fueltype.loc[:,\"cng\":\"petrol\"].idxmax(axis=\"columns\")\n",
    "dict_fueltype = fueltype.set_index(['brand', 'model'])['prevailing_fueltype'].to_dict()\n",
    "fueltype.head()"
   ]
  },
  {
   "cell_type": "code",
   "execution_count": 14,
   "metadata": {},
   "outputs": [
    {
     "name": "stdout",
     "output_type": "stream",
     "text": [
      "CPU times: user 11.4 s, sys: 106 ms, total: 11.5 s\n",
      "Wall time: 11.9 s\n"
     ]
    },
    {
     "data": {
      "text/plain": [
       "datecrawled              0\n",
       "price                    0\n",
       "vehicletype          30662\n",
       "registrationyear         0\n",
       "gearbox                  0\n",
       "power                    0\n",
       "model                    0\n",
       "kilometer                0\n",
       "registrationmonth        0\n",
       "fueltype                 0\n",
       "brand                    0\n",
       "notrepaired          62100\n",
       "datecreated              0\n",
       "numberofpictures         0\n",
       "postalcode               0\n",
       "lastseen                 0\n",
       "dtype: int64"
      ]
     },
     "execution_count": 14,
     "metadata": {},
     "output_type": "execute_result"
    }
   ],
   "source": [
    "%%time\n",
    "def set_fueltype(string):\n",
    "    if string['fueltype']!=string['fueltype']: #проверка на Nan\n",
    "        try:\n",
    "            return dict_fueltype[(string['brand'], string['model'])]\n",
    "        except:\n",
    "            return np.nan\n",
    "    else:\n",
    "        return string['fueltype']\n",
    "data['fueltype'] = data.apply(set_fueltype ,axis=1)\n",
    "data.isna().sum()"
   ]
  },
  {
   "cell_type": "markdown",
   "metadata": {},
   "source": [
    "Продолжим с `vehicletype`:"
   ]
  },
  {
   "cell_type": "code",
   "execution_count": 15,
   "metadata": {},
   "outputs": [
    {
     "data": {
      "text/html": [
       "<div>\n",
       "<style scoped>\n",
       "    .dataframe tbody tr th:only-of-type {\n",
       "        vertical-align: middle;\n",
       "    }\n",
       "\n",
       "    .dataframe tbody tr th {\n",
       "        vertical-align: top;\n",
       "    }\n",
       "\n",
       "    .dataframe thead th {\n",
       "        text-align: right;\n",
       "    }\n",
       "</style>\n",
       "<table border=\"1\" class=\"dataframe\">\n",
       "  <thead>\n",
       "    <tr style=\"text-align: right;\">\n",
       "      <th>vehicletype</th>\n",
       "      <th>brand</th>\n",
       "      <th>model</th>\n",
       "      <th>bus</th>\n",
       "      <th>convertible</th>\n",
       "      <th>coupe</th>\n",
       "      <th>other</th>\n",
       "      <th>sedan</th>\n",
       "      <th>small</th>\n",
       "      <th>suv</th>\n",
       "      <th>wagon</th>\n",
       "      <th>Неизвестно</th>\n",
       "    </tr>\n",
       "  </thead>\n",
       "  <tbody>\n",
       "    <tr>\n",
       "      <td>0</td>\n",
       "      <td>volkswagen</td>\n",
       "      <td>golf</td>\n",
       "      <td>760.0</td>\n",
       "      <td>1962.0</td>\n",
       "      <td>429.0</td>\n",
       "      <td>185.0</td>\n",
       "      <td>14744.0</td>\n",
       "      <td>3911.0</td>\n",
       "      <td>25.0</td>\n",
       "      <td>3181.0</td>\n",
       "      <td>4035.0</td>\n",
       "    </tr>\n",
       "    <tr>\n",
       "      <td>1</td>\n",
       "      <td>volkswagen</td>\n",
       "      <td>polo</td>\n",
       "      <td>2.0</td>\n",
       "      <td>3.0</td>\n",
       "      <td>265.0</td>\n",
       "      <td>23.0</td>\n",
       "      <td>612.0</td>\n",
       "      <td>10267.0</td>\n",
       "      <td>2.0</td>\n",
       "      <td>292.0</td>\n",
       "      <td>1600.0</td>\n",
       "    </tr>\n",
       "    <tr>\n",
       "      <td>2</td>\n",
       "      <td>opel</td>\n",
       "      <td>corsa</td>\n",
       "      <td>3.0</td>\n",
       "      <td>8.0</td>\n",
       "      <td>49.0</td>\n",
       "      <td>18.0</td>\n",
       "      <td>402.0</td>\n",
       "      <td>10499.0</td>\n",
       "      <td>1.0</td>\n",
       "      <td>14.0</td>\n",
       "      <td>1576.0</td>\n",
       "    </tr>\n",
       "    <tr>\n",
       "      <td>3</td>\n",
       "      <td>bmw</td>\n",
       "      <td>3er</td>\n",
       "      <td>2.0</td>\n",
       "      <td>2200.0</td>\n",
       "      <td>3107.0</td>\n",
       "      <td>197.0</td>\n",
       "      <td>8087.0</td>\n",
       "      <td>269.0</td>\n",
       "      <td>3.0</td>\n",
       "      <td>4584.0</td>\n",
       "      <td>1312.0</td>\n",
       "    </tr>\n",
       "    <tr>\n",
       "      <td>4</td>\n",
       "      <td>opel</td>\n",
       "      <td>astra</td>\n",
       "      <td>1.0</td>\n",
       "      <td>1047.0</td>\n",
       "      <td>932.0</td>\n",
       "      <td>76.0</td>\n",
       "      <td>3769.0</td>\n",
       "      <td>483.0</td>\n",
       "      <td>1.0</td>\n",
       "      <td>3313.0</td>\n",
       "      <td>1187.0</td>\n",
       "    </tr>\n",
       "    <tr>\n",
       "      <td>...</td>\n",
       "      <td>...</td>\n",
       "      <td>...</td>\n",
       "      <td>...</td>\n",
       "      <td>...</td>\n",
       "      <td>...</td>\n",
       "      <td>...</td>\n",
       "      <td>...</td>\n",
       "      <td>...</td>\n",
       "      <td>...</td>\n",
       "      <td>...</td>\n",
       "      <td>...</td>\n",
       "    </tr>\n",
       "    <tr>\n",
       "      <td>292</td>\n",
       "      <td>peugeot</td>\n",
       "      <td>5_reihe</td>\n",
       "      <td>41.0</td>\n",
       "      <td>3.0</td>\n",
       "      <td>3.0</td>\n",
       "      <td>1.0</td>\n",
       "      <td>23.0</td>\n",
       "      <td>NaN</td>\n",
       "      <td>NaN</td>\n",
       "      <td>42.0</td>\n",
       "      <td>NaN</td>\n",
       "    </tr>\n",
       "    <tr>\n",
       "      <td>293</td>\n",
       "      <td>rover</td>\n",
       "      <td>defender</td>\n",
       "      <td>NaN</td>\n",
       "      <td>NaN</td>\n",
       "      <td>NaN</td>\n",
       "      <td>NaN</td>\n",
       "      <td>NaN</td>\n",
       "      <td>1.0</td>\n",
       "      <td>NaN</td>\n",
       "      <td>NaN</td>\n",
       "      <td>NaN</td>\n",
       "    </tr>\n",
       "    <tr>\n",
       "      <td>294</td>\n",
       "      <td>rover</td>\n",
       "      <td>discovery</td>\n",
       "      <td>NaN</td>\n",
       "      <td>1.0</td>\n",
       "      <td>NaN</td>\n",
       "      <td>NaN</td>\n",
       "      <td>NaN</td>\n",
       "      <td>NaN</td>\n",
       "      <td>1.0</td>\n",
       "      <td>NaN</td>\n",
       "      <td>NaN</td>\n",
       "    </tr>\n",
       "    <tr>\n",
       "      <td>295</td>\n",
       "      <td>rover</td>\n",
       "      <td>freelander</td>\n",
       "      <td>NaN</td>\n",
       "      <td>NaN</td>\n",
       "      <td>NaN</td>\n",
       "      <td>NaN</td>\n",
       "      <td>NaN</td>\n",
       "      <td>NaN</td>\n",
       "      <td>3.0</td>\n",
       "      <td>NaN</td>\n",
       "      <td>NaN</td>\n",
       "    </tr>\n",
       "    <tr>\n",
       "      <td>296</td>\n",
       "      <td>seat</td>\n",
       "      <td>mii</td>\n",
       "      <td>NaN</td>\n",
       "      <td>NaN</td>\n",
       "      <td>NaN</td>\n",
       "      <td>NaN</td>\n",
       "      <td>6.0</td>\n",
       "      <td>75.0</td>\n",
       "      <td>NaN</td>\n",
       "      <td>NaN</td>\n",
       "      <td>NaN</td>\n",
       "    </tr>\n",
       "  </tbody>\n",
       "</table>\n",
       "<p>297 rows × 11 columns</p>\n",
       "</div>"
      ],
      "text/plain": [
       "vehicletype       brand       model    bus  convertible   coupe  other  \\\n",
       "0            volkswagen        golf  760.0       1962.0   429.0  185.0   \n",
       "1            volkswagen        polo    2.0          3.0   265.0   23.0   \n",
       "2                  opel       corsa    3.0          8.0    49.0   18.0   \n",
       "3                   bmw         3er    2.0       2200.0  3107.0  197.0   \n",
       "4                  opel       astra    1.0       1047.0   932.0   76.0   \n",
       "..                  ...         ...    ...          ...     ...    ...   \n",
       "292             peugeot     5_reihe   41.0          3.0     3.0    1.0   \n",
       "293               rover    defender    NaN          NaN     NaN    NaN   \n",
       "294               rover   discovery    NaN          1.0     NaN    NaN   \n",
       "295               rover  freelander    NaN          NaN     NaN    NaN   \n",
       "296                seat         mii    NaN          NaN     NaN    NaN   \n",
       "\n",
       "vehicletype    sedan    small   suv   wagon  Неизвестно  \n",
       "0            14744.0   3911.0  25.0  3181.0      4035.0  \n",
       "1              612.0  10267.0   2.0   292.0      1600.0  \n",
       "2              402.0  10499.0   1.0    14.0      1576.0  \n",
       "3             8087.0    269.0   3.0  4584.0      1312.0  \n",
       "4             3769.0    483.0   1.0  3313.0      1187.0  \n",
       "..               ...      ...   ...     ...         ...  \n",
       "292             23.0      NaN   NaN    42.0         NaN  \n",
       "293              NaN      1.0   NaN     NaN         NaN  \n",
       "294              NaN      NaN   1.0     NaN         NaN  \n",
       "295              NaN      NaN   3.0     NaN         NaN  \n",
       "296              6.0     75.0   NaN     NaN         NaN  \n",
       "\n",
       "[297 rows x 11 columns]"
      ]
     },
     "execution_count": 15,
     "metadata": {},
     "output_type": "execute_result"
    }
   ],
   "source": [
    "vehicletype = (data.fillna('Неизвестно')\n",
    "    .pivot_table(index=['brand','model'], columns = ['vehicletype'], values = 'price', aggfunc='count')\n",
    "    .sort_values('Неизвестно', ascending = False).reset_index())\n",
    "vehicletype"
   ]
  },
  {
   "cell_type": "code",
   "execution_count": 16,
   "metadata": {},
   "outputs": [
    {
     "data": {
      "text/html": [
       "<div>\n",
       "<style scoped>\n",
       "    .dataframe tbody tr th:only-of-type {\n",
       "        vertical-align: middle;\n",
       "    }\n",
       "\n",
       "    .dataframe tbody tr th {\n",
       "        vertical-align: top;\n",
       "    }\n",
       "\n",
       "    .dataframe thead th {\n",
       "        text-align: right;\n",
       "    }\n",
       "</style>\n",
       "<table border=\"1\" class=\"dataframe\">\n",
       "  <thead>\n",
       "    <tr style=\"text-align: right;\">\n",
       "      <th>vehicletype</th>\n",
       "      <th>brand</th>\n",
       "      <th>model</th>\n",
       "      <th>bus</th>\n",
       "      <th>convertible</th>\n",
       "      <th>coupe</th>\n",
       "      <th>other</th>\n",
       "      <th>sedan</th>\n",
       "      <th>small</th>\n",
       "      <th>suv</th>\n",
       "      <th>wagon</th>\n",
       "      <th>Неизвестно</th>\n",
       "      <th>prevailing_vehicletype</th>\n",
       "    </tr>\n",
       "  </thead>\n",
       "  <tbody>\n",
       "    <tr>\n",
       "      <td>0</td>\n",
       "      <td>volkswagen</td>\n",
       "      <td>golf</td>\n",
       "      <td>760.0</td>\n",
       "      <td>1962.0</td>\n",
       "      <td>429.0</td>\n",
       "      <td>185.0</td>\n",
       "      <td>14744.0</td>\n",
       "      <td>3911.0</td>\n",
       "      <td>25.0</td>\n",
       "      <td>3181.0</td>\n",
       "      <td>4035.0</td>\n",
       "      <td>sedan</td>\n",
       "    </tr>\n",
       "    <tr>\n",
       "      <td>1</td>\n",
       "      <td>volkswagen</td>\n",
       "      <td>polo</td>\n",
       "      <td>2.0</td>\n",
       "      <td>3.0</td>\n",
       "      <td>265.0</td>\n",
       "      <td>23.0</td>\n",
       "      <td>612.0</td>\n",
       "      <td>10267.0</td>\n",
       "      <td>2.0</td>\n",
       "      <td>292.0</td>\n",
       "      <td>1600.0</td>\n",
       "      <td>small</td>\n",
       "    </tr>\n",
       "    <tr>\n",
       "      <td>2</td>\n",
       "      <td>opel</td>\n",
       "      <td>corsa</td>\n",
       "      <td>3.0</td>\n",
       "      <td>8.0</td>\n",
       "      <td>49.0</td>\n",
       "      <td>18.0</td>\n",
       "      <td>402.0</td>\n",
       "      <td>10499.0</td>\n",
       "      <td>1.0</td>\n",
       "      <td>14.0</td>\n",
       "      <td>1576.0</td>\n",
       "      <td>small</td>\n",
       "    </tr>\n",
       "    <tr>\n",
       "      <td>3</td>\n",
       "      <td>bmw</td>\n",
       "      <td>3er</td>\n",
       "      <td>2.0</td>\n",
       "      <td>2200.0</td>\n",
       "      <td>3107.0</td>\n",
       "      <td>197.0</td>\n",
       "      <td>8087.0</td>\n",
       "      <td>269.0</td>\n",
       "      <td>3.0</td>\n",
       "      <td>4584.0</td>\n",
       "      <td>1312.0</td>\n",
       "      <td>sedan</td>\n",
       "    </tr>\n",
       "    <tr>\n",
       "      <td>4</td>\n",
       "      <td>opel</td>\n",
       "      <td>astra</td>\n",
       "      <td>1.0</td>\n",
       "      <td>1047.0</td>\n",
       "      <td>932.0</td>\n",
       "      <td>76.0</td>\n",
       "      <td>3769.0</td>\n",
       "      <td>483.0</td>\n",
       "      <td>1.0</td>\n",
       "      <td>3313.0</td>\n",
       "      <td>1187.0</td>\n",
       "      <td>sedan</td>\n",
       "    </tr>\n",
       "  </tbody>\n",
       "</table>\n",
       "</div>"
      ],
      "text/plain": [
       "vehicletype       brand  model    bus  convertible   coupe  other    sedan  \\\n",
       "0            volkswagen   golf  760.0       1962.0   429.0  185.0  14744.0   \n",
       "1            volkswagen   polo    2.0          3.0   265.0   23.0    612.0   \n",
       "2                  opel  corsa    3.0          8.0    49.0   18.0    402.0   \n",
       "3                   bmw    3er    2.0       2200.0  3107.0  197.0   8087.0   \n",
       "4                  opel  astra    1.0       1047.0   932.0   76.0   3769.0   \n",
       "\n",
       "vehicletype    small   suv   wagon  Неизвестно prevailing_vehicletype  \n",
       "0             3911.0  25.0  3181.0      4035.0                  sedan  \n",
       "1            10267.0   2.0   292.0      1600.0                  small  \n",
       "2            10499.0   1.0    14.0      1576.0                  small  \n",
       "3              269.0   3.0  4584.0      1312.0                  sedan  \n",
       "4              483.0   1.0  3313.0      1187.0                  sedan  "
      ]
     },
     "execution_count": 16,
     "metadata": {},
     "output_type": "execute_result"
    }
   ],
   "source": [
    "vehicletype = (data.fillna('Неизвестно')\n",
    "    .pivot_table(index=['brand','model'], columns = ['vehicletype'], values = 'price', aggfunc='count')\n",
    "    .sort_values('Неизвестно', ascending = False).reset_index())\n",
    "vehicletype['prevailing_vehicletype'] = vehicletype.loc[:,\"bus\":\"wagon\"].idxmax(axis=\"columns\")\n",
    "dict_vehicletype = vehicletype.set_index(['brand', 'model'])['prevailing_vehicletype'].to_dict()\n",
    "vehicletype.head()"
   ]
  },
  {
   "cell_type": "code",
   "execution_count": 17,
   "metadata": {},
   "outputs": [
    {
     "name": "stdout",
     "output_type": "stream",
     "text": [
      "CPU times: user 11.2 s, sys: 82.7 ms, total: 11.3 s\n",
      "Wall time: 11.5 s\n"
     ]
    },
    {
     "data": {
      "text/plain": [
       "datecrawled              0\n",
       "price                    0\n",
       "vehicletype              0\n",
       "registrationyear         0\n",
       "gearbox                  0\n",
       "power                    0\n",
       "model                    0\n",
       "kilometer                0\n",
       "registrationmonth        0\n",
       "fueltype                 0\n",
       "brand                    0\n",
       "notrepaired          62100\n",
       "datecreated              0\n",
       "numberofpictures         0\n",
       "postalcode               0\n",
       "lastseen                 0\n",
       "dtype: int64"
      ]
     },
     "execution_count": 17,
     "metadata": {},
     "output_type": "execute_result"
    }
   ],
   "source": [
    "%%time\n",
    "def set_vehicletype(string):\n",
    "    if string['vehicletype']!=string['vehicletype']: #проверка на Nan\n",
    "        try:\n",
    "            return dict_vehicletype[(string['brand'], string['model'])]\n",
    "        except:\n",
    "            return np.nan\n",
    "    else:\n",
    "        return string['vehicletype']\n",
    "data['vehicletype'] = data.apply(set_vehicletype ,axis=1)\n",
    "data.isna().sum()"
   ]
  },
  {
   "cell_type": "markdown",
   "metadata": {},
   "source": [
    "Просмотрим на уникальные значения в столбце `notrepaired`."
   ]
  },
  {
   "cell_type": "code",
   "execution_count": 18,
   "metadata": {},
   "outputs": [
    {
     "data": {
      "text/plain": [
       "no     238855\n",
       "NaN     62100\n",
       "yes     33709\n",
       "Name: notrepaired, dtype: int64"
      ]
     },
     "execution_count": 18,
     "metadata": {},
     "output_type": "execute_result"
    }
   ],
   "source": [
    "data['notrepaired'].value_counts(dropna=False)"
   ]
  },
  {
   "cell_type": "markdown",
   "metadata": {},
   "source": [
    "Есть и \"да\" и \"нет\". Пропуск не означает отсутствие или наличие ремонта.\n",
    "Посмотрим на признаки с пропусками."
   ]
  },
  {
   "cell_type": "code",
   "execution_count": 19,
   "metadata": {},
   "outputs": [
    {
     "data": {
      "text/html": [
       "<div>\n",
       "<style scoped>\n",
       "    .dataframe tbody tr th:only-of-type {\n",
       "        vertical-align: middle;\n",
       "    }\n",
       "\n",
       "    .dataframe tbody tr th {\n",
       "        vertical-align: top;\n",
       "    }\n",
       "\n",
       "    .dataframe thead th {\n",
       "        text-align: right;\n",
       "    }\n",
       "</style>\n",
       "<table border=\"1\" class=\"dataframe\">\n",
       "  <thead>\n",
       "    <tr style=\"text-align: right;\">\n",
       "      <th></th>\n",
       "      <th>datecrawled</th>\n",
       "      <th>price</th>\n",
       "      <th>vehicletype</th>\n",
       "      <th>registrationyear</th>\n",
       "      <th>gearbox</th>\n",
       "      <th>power</th>\n",
       "      <th>model</th>\n",
       "      <th>kilometer</th>\n",
       "      <th>registrationmonth</th>\n",
       "      <th>fueltype</th>\n",
       "      <th>brand</th>\n",
       "      <th>notrepaired</th>\n",
       "      <th>datecreated</th>\n",
       "      <th>numberofpictures</th>\n",
       "      <th>postalcode</th>\n",
       "      <th>lastseen</th>\n",
       "    </tr>\n",
       "  </thead>\n",
       "  <tbody>\n",
       "    <tr>\n",
       "      <td>0</td>\n",
       "      <td>2016-03-24 11:52:17</td>\n",
       "      <td>480</td>\n",
       "      <td>sedan</td>\n",
       "      <td>1993</td>\n",
       "      <td>manual</td>\n",
       "      <td>0</td>\n",
       "      <td>golf</td>\n",
       "      <td>150000</td>\n",
       "      <td>0</td>\n",
       "      <td>petrol</td>\n",
       "      <td>volkswagen</td>\n",
       "      <td>NaN</td>\n",
       "      <td>2016-03-24 00:00:00</td>\n",
       "      <td>0</td>\n",
       "      <td>70435</td>\n",
       "      <td>2016-04-07 03:16:57</td>\n",
       "    </tr>\n",
       "    <tr>\n",
       "      <td>2</td>\n",
       "      <td>2016-03-14 12:52:21</td>\n",
       "      <td>9800</td>\n",
       "      <td>suv</td>\n",
       "      <td>2004</td>\n",
       "      <td>auto</td>\n",
       "      <td>163</td>\n",
       "      <td>grand</td>\n",
       "      <td>125000</td>\n",
       "      <td>8</td>\n",
       "      <td>gasoline</td>\n",
       "      <td>jeep</td>\n",
       "      <td>NaN</td>\n",
       "      <td>2016-03-14 00:00:00</td>\n",
       "      <td>0</td>\n",
       "      <td>90480</td>\n",
       "      <td>2016-04-05 12:47:46</td>\n",
       "    </tr>\n",
       "    <tr>\n",
       "      <td>8</td>\n",
       "      <td>2016-04-04 23:42:13</td>\n",
       "      <td>14500</td>\n",
       "      <td>bus</td>\n",
       "      <td>2014</td>\n",
       "      <td>manual</td>\n",
       "      <td>125</td>\n",
       "      <td>c_max</td>\n",
       "      <td>30000</td>\n",
       "      <td>8</td>\n",
       "      <td>petrol</td>\n",
       "      <td>ford</td>\n",
       "      <td>NaN</td>\n",
       "      <td>2016-04-04 00:00:00</td>\n",
       "      <td>0</td>\n",
       "      <td>94505</td>\n",
       "      <td>2016-04-04 23:42:13</td>\n",
       "    </tr>\n",
       "    <tr>\n",
       "      <td>9</td>\n",
       "      <td>2016-03-17 10:53:50</td>\n",
       "      <td>999</td>\n",
       "      <td>small</td>\n",
       "      <td>1998</td>\n",
       "      <td>manual</td>\n",
       "      <td>101</td>\n",
       "      <td>golf</td>\n",
       "      <td>150000</td>\n",
       "      <td>0</td>\n",
       "      <td>petrol</td>\n",
       "      <td>volkswagen</td>\n",
       "      <td>NaN</td>\n",
       "      <td>2016-03-17 00:00:00</td>\n",
       "      <td>0</td>\n",
       "      <td>27472</td>\n",
       "      <td>2016-03-31 17:17:06</td>\n",
       "    </tr>\n",
       "    <tr>\n",
       "      <td>12</td>\n",
       "      <td>2016-03-15 22:49:09</td>\n",
       "      <td>999</td>\n",
       "      <td>wagon</td>\n",
       "      <td>1995</td>\n",
       "      <td>manual</td>\n",
       "      <td>115</td>\n",
       "      <td>passat</td>\n",
       "      <td>150000</td>\n",
       "      <td>11</td>\n",
       "      <td>petrol</td>\n",
       "      <td>volkswagen</td>\n",
       "      <td>NaN</td>\n",
       "      <td>2016-03-15 00:00:00</td>\n",
       "      <td>0</td>\n",
       "      <td>37269</td>\n",
       "      <td>2016-04-01 13:16:16</td>\n",
       "    </tr>\n",
       "  </tbody>\n",
       "</table>\n",
       "</div>"
      ],
      "text/plain": [
       "            datecrawled  price vehicletype  registrationyear gearbox  power  \\\n",
       "0   2016-03-24 11:52:17    480       sedan              1993  manual      0   \n",
       "2   2016-03-14 12:52:21   9800         suv              2004    auto    163   \n",
       "8   2016-04-04 23:42:13  14500         bus              2014  manual    125   \n",
       "9   2016-03-17 10:53:50    999       small              1998  manual    101   \n",
       "12  2016-03-15 22:49:09    999       wagon              1995  manual    115   \n",
       "\n",
       "     model  kilometer  registrationmonth  fueltype       brand notrepaired  \\\n",
       "0     golf     150000                  0    petrol  volkswagen         NaN   \n",
       "2    grand     125000                  8  gasoline        jeep         NaN   \n",
       "8    c_max      30000                  8    petrol        ford         NaN   \n",
       "9     golf     150000                  0    petrol  volkswagen         NaN   \n",
       "12  passat     150000                 11    petrol  volkswagen         NaN   \n",
       "\n",
       "            datecreated  numberofpictures  postalcode             lastseen  \n",
       "0   2016-03-24 00:00:00                 0       70435  2016-04-07 03:16:57  \n",
       "2   2016-03-14 00:00:00                 0       90480  2016-04-05 12:47:46  \n",
       "8   2016-04-04 00:00:00                 0       94505  2016-04-04 23:42:13  \n",
       "9   2016-03-17 00:00:00                 0       27472  2016-03-31 17:17:06  \n",
       "12  2016-03-15 00:00:00                 0       37269  2016-04-01 13:16:16  "
      ]
     },
     "execution_count": 19,
     "metadata": {},
     "output_type": "execute_result"
    }
   ],
   "source": [
    "data[data['notrepaired'].isna()].head()"
   ]
  },
  {
   "cell_type": "markdown",
   "metadata": {},
   "source": [
    "Ремонт не указан ни у машины 2014 года, ни у 1995го. Неизвестные значения заполним следующим образом: найдем максимальный год регистрации машины, отнимем от него 5. Выше получившейся границы проставим, что ремонта небыло, ниже - что ремонт был. Допустим, что за 5 лет эксплутации машину необходимо хотя бы раз отремонтировать.\n",
    "\n",
    "Найдем максимальное значение года выпуска."
   ]
  },
  {
   "cell_type": "code",
   "execution_count": 20,
   "metadata": {},
   "outputs": [
    {
     "data": {
      "text/plain": [
       "9999"
      ]
     },
     "execution_count": 20,
     "metadata": {},
     "output_type": "execute_result"
    }
   ],
   "source": [
    "data['registrationyear'].max()"
   ]
  },
  {
   "cell_type": "markdown",
   "metadata": {},
   "source": [
    "Очень плохо. Построим \"Ящик с усами\", что бы посмотреть на эту аномалию."
   ]
  },
  {
   "cell_type": "code",
   "execution_count": 21,
   "metadata": {
    "scrolled": false
   },
   "outputs": [
    {
     "data": {
      "image/png": "[encoded data removed]",
      "text/plain": [
       "<Figure size 288x504 with 1 Axes>"
      ]
     },
     "metadata": {
      "needs_background": "light"
     },
     "output_type": "display_data"
    }
   ],
   "source": [
    "data.boxplot(column=['registrationyear'], figsize =(4,7), grid = True);"
   ]
  },
  {
   "cell_type": "markdown",
   "metadata": {},
   "source": [
    "Отбросим все значения выше 2022 года, и еще раз взглянем на график."
   ]
  },
  {
   "cell_type": "code",
   "execution_count": 22,
   "metadata": {},
   "outputs": [
    {
     "name": "stdout",
     "output_type": "stream",
     "text": [
      "До удаления, строк - 334664\n",
      "После удаления, строк - 322181\n"
     ]
    }
   ],
   "source": [
    "print(\"До удаления, строк -\", data.shape[0])\n",
    "data = data[data['registrationyear']<2017]\n",
    "print(\"После удаления, строк -\", data.shape[0])"
   ]
  },
  {
   "cell_type": "code",
   "execution_count": 23,
   "metadata": {},
   "outputs": [
    {
     "data": {
      "image/png": "[encoded data removed]",
      "text/plain": [
       "<Figure size 288x504 with 1 Axes>"
      ]
     },
     "metadata": {
      "needs_background": "light"
     },
     "output_type": "display_data"
    }
   ],
   "source": [
    "data.boxplot(column=['registrationyear'], figsize =(4,7), grid = True);"
   ]
  },
  {
   "cell_type": "markdown",
   "metadata": {},
   "source": [
    "Удалим все деревянные повозки из датасета. Оставим только постреволюционные автомобили."
   ]
  },
  {
   "cell_type": "code",
   "execution_count": 24,
   "metadata": {},
   "outputs": [
    {
     "name": "stdout",
     "output_type": "stream",
     "text": [
      "До удаления, строк - 322181\n",
      "После удаления, строк - 321954\n"
     ]
    }
   ],
   "source": [
    "print(\"До удаления, строк -\", data.shape[0])\n",
    "data = data[data['registrationyear']>=1960]\n",
    "print(\"После удаления, строк -\", data.shape[0])"
   ]
  },
  {
   "cell_type": "code",
   "execution_count": 25,
   "metadata": {},
   "outputs": [
    {
     "data": {
      "image/png": "[encoded data removed]",
      "text/plain": [
       "<Figure size 288x504 with 1 Axes>"
      ]
     },
     "metadata": {
      "needs_background": "light"
     },
     "output_type": "display_data"
    }
   ],
   "source": [
    "data.boxplot(column=['registrationyear'], figsize =(4,7), grid = True);"
   ]
  },
  {
   "cell_type": "markdown",
   "metadata": {},
   "source": [
    "Теперь реализуем идею с заменой пропусков в столбце `registrationyear`."
   ]
  },
  {
   "cell_type": "code",
   "execution_count": 26,
   "metadata": {},
   "outputs": [],
   "source": [
    "max_registrationyear = data['registrationyear'].max()\n",
    "def set_notrepaired(string):\n",
    "    registrationyear = string['registrationyear']\n",
    "    if registrationyear != registrationyear: #проверка на Nan\n",
    "        if  registrationyear > max_registrationyear - 5:\n",
    "            return 'yes'\n",
    "        else:\n",
    "            return 'no'\n",
    "    else:\n",
    "        return string['notrepaired']"
   ]
  },
  {
   "cell_type": "code",
   "execution_count": 27,
   "metadata": {},
   "outputs": [
    {
     "name": "stdout",
     "output_type": "stream",
     "text": [
      "CPU times: user 7.83 s, sys: 91.5 ms, total: 7.92 s\n",
      "Wall time: 8.15 s\n"
     ]
    },
    {
     "data": {
      "text/plain": [
       "datecrawled              0\n",
       "price                    0\n",
       "vehicletype              0\n",
       "registrationyear         0\n",
       "gearbox                  0\n",
       "power                    0\n",
       "model                    0\n",
       "kilometer                0\n",
       "registrationmonth        0\n",
       "fueltype                 0\n",
       "brand                    0\n",
       "notrepaired          56649\n",
       "datecreated              0\n",
       "numberofpictures         0\n",
       "postalcode               0\n",
       "lastseen                 0\n",
       "dtype: int64"
      ]
     },
     "execution_count": 27,
     "metadata": {},
     "output_type": "execute_result"
    }
   ],
   "source": [
    "%%time\n",
    "data['notrepaired'] = data.apply(set_notrepaired, axis =1)\n",
    "data.isna().sum()"
   ]
  },
  {
   "cell_type": "code",
   "execution_count": 28,
   "metadata": {},
   "outputs": [
    {
     "data": {
      "text/html": [
       "<div>\n",
       "<style scoped>\n",
       "    .dataframe tbody tr th:only-of-type {\n",
       "        vertical-align: middle;\n",
       "    }\n",
       "\n",
       "    .dataframe tbody tr th {\n",
       "        vertical-align: top;\n",
       "    }\n",
       "\n",
       "    .dataframe thead th {\n",
       "        text-align: right;\n",
       "    }\n",
       "</style>\n",
       "<table border=\"1\" class=\"dataframe\">\n",
       "  <thead>\n",
       "    <tr style=\"text-align: right;\">\n",
       "      <th></th>\n",
       "      <th>datecrawled</th>\n",
       "      <th>price</th>\n",
       "      <th>vehicletype</th>\n",
       "      <th>registrationyear</th>\n",
       "      <th>gearbox</th>\n",
       "      <th>power</th>\n",
       "      <th>model</th>\n",
       "      <th>kilometer</th>\n",
       "      <th>registrationmonth</th>\n",
       "      <th>fueltype</th>\n",
       "      <th>brand</th>\n",
       "      <th>notrepaired</th>\n",
       "      <th>datecreated</th>\n",
       "      <th>numberofpictures</th>\n",
       "      <th>postalcode</th>\n",
       "      <th>lastseen</th>\n",
       "    </tr>\n",
       "  </thead>\n",
       "  <tbody>\n",
       "    <tr>\n",
       "      <td>0</td>\n",
       "      <td>2016-03-24 11:52:17</td>\n",
       "      <td>480</td>\n",
       "      <td>sedan</td>\n",
       "      <td>1993</td>\n",
       "      <td>manual</td>\n",
       "      <td>0</td>\n",
       "      <td>golf</td>\n",
       "      <td>150000</td>\n",
       "      <td>0</td>\n",
       "      <td>petrol</td>\n",
       "      <td>volkswagen</td>\n",
       "      <td>NaN</td>\n",
       "      <td>2016-03-24 00:00:00</td>\n",
       "      <td>0</td>\n",
       "      <td>70435</td>\n",
       "      <td>2016-04-07 03:16:57</td>\n",
       "    </tr>\n",
       "    <tr>\n",
       "      <td>2</td>\n",
       "      <td>2016-03-14 12:52:21</td>\n",
       "      <td>9800</td>\n",
       "      <td>suv</td>\n",
       "      <td>2004</td>\n",
       "      <td>auto</td>\n",
       "      <td>163</td>\n",
       "      <td>grand</td>\n",
       "      <td>125000</td>\n",
       "      <td>8</td>\n",
       "      <td>gasoline</td>\n",
       "      <td>jeep</td>\n",
       "      <td>NaN</td>\n",
       "      <td>2016-03-14 00:00:00</td>\n",
       "      <td>0</td>\n",
       "      <td>90480</td>\n",
       "      <td>2016-04-05 12:47:46</td>\n",
       "    </tr>\n",
       "    <tr>\n",
       "      <td>3</td>\n",
       "      <td>2016-03-17 16:54:04</td>\n",
       "      <td>1500</td>\n",
       "      <td>small</td>\n",
       "      <td>2001</td>\n",
       "      <td>manual</td>\n",
       "      <td>75</td>\n",
       "      <td>golf</td>\n",
       "      <td>150000</td>\n",
       "      <td>6</td>\n",
       "      <td>petrol</td>\n",
       "      <td>volkswagen</td>\n",
       "      <td>no</td>\n",
       "      <td>2016-03-17 00:00:00</td>\n",
       "      <td>0</td>\n",
       "      <td>91074</td>\n",
       "      <td>2016-03-17 17:40:17</td>\n",
       "    </tr>\n",
       "    <tr>\n",
       "      <td>4</td>\n",
       "      <td>2016-03-31 17:25:20</td>\n",
       "      <td>3600</td>\n",
       "      <td>small</td>\n",
       "      <td>2008</td>\n",
       "      <td>manual</td>\n",
       "      <td>69</td>\n",
       "      <td>fabia</td>\n",
       "      <td>90000</td>\n",
       "      <td>7</td>\n",
       "      <td>gasoline</td>\n",
       "      <td>skoda</td>\n",
       "      <td>no</td>\n",
       "      <td>2016-03-31 00:00:00</td>\n",
       "      <td>0</td>\n",
       "      <td>60437</td>\n",
       "      <td>2016-04-06 10:17:21</td>\n",
       "    </tr>\n",
       "    <tr>\n",
       "      <td>5</td>\n",
       "      <td>2016-04-04 17:36:23</td>\n",
       "      <td>650</td>\n",
       "      <td>sedan</td>\n",
       "      <td>1995</td>\n",
       "      <td>manual</td>\n",
       "      <td>102</td>\n",
       "      <td>3er</td>\n",
       "      <td>150000</td>\n",
       "      <td>10</td>\n",
       "      <td>petrol</td>\n",
       "      <td>bmw</td>\n",
       "      <td>yes</td>\n",
       "      <td>2016-04-04 00:00:00</td>\n",
       "      <td>0</td>\n",
       "      <td>33775</td>\n",
       "      <td>2016-04-06 19:17:07</td>\n",
       "    </tr>\n",
       "    <tr>\n",
       "      <td>...</td>\n",
       "      <td>...</td>\n",
       "      <td>...</td>\n",
       "      <td>...</td>\n",
       "      <td>...</td>\n",
       "      <td>...</td>\n",
       "      <td>...</td>\n",
       "      <td>...</td>\n",
       "      <td>...</td>\n",
       "      <td>...</td>\n",
       "      <td>...</td>\n",
       "      <td>...</td>\n",
       "      <td>...</td>\n",
       "      <td>...</td>\n",
       "      <td>...</td>\n",
       "      <td>...</td>\n",
       "      <td>...</td>\n",
       "    </tr>\n",
       "    <tr>\n",
       "      <td>354363</td>\n",
       "      <td>2016-03-27 20:36:20</td>\n",
       "      <td>1150</td>\n",
       "      <td>bus</td>\n",
       "      <td>2000</td>\n",
       "      <td>manual</td>\n",
       "      <td>0</td>\n",
       "      <td>zafira</td>\n",
       "      <td>150000</td>\n",
       "      <td>3</td>\n",
       "      <td>petrol</td>\n",
       "      <td>opel</td>\n",
       "      <td>no</td>\n",
       "      <td>2016-03-27 00:00:00</td>\n",
       "      <td>0</td>\n",
       "      <td>26624</td>\n",
       "      <td>2016-03-29 10:17:23</td>\n",
       "    </tr>\n",
       "    <tr>\n",
       "      <td>354364</td>\n",
       "      <td>2016-03-21 09:50:58</td>\n",
       "      <td>0</td>\n",
       "      <td>sedan</td>\n",
       "      <td>2005</td>\n",
       "      <td>manual</td>\n",
       "      <td>0</td>\n",
       "      <td>colt</td>\n",
       "      <td>150000</td>\n",
       "      <td>7</td>\n",
       "      <td>petrol</td>\n",
       "      <td>mitsubishi</td>\n",
       "      <td>yes</td>\n",
       "      <td>2016-03-21 00:00:00</td>\n",
       "      <td>0</td>\n",
       "      <td>2694</td>\n",
       "      <td>2016-03-21 10:42:49</td>\n",
       "    </tr>\n",
       "    <tr>\n",
       "      <td>354366</td>\n",
       "      <td>2016-03-05 19:56:21</td>\n",
       "      <td>1199</td>\n",
       "      <td>convertible</td>\n",
       "      <td>2000</td>\n",
       "      <td>auto</td>\n",
       "      <td>101</td>\n",
       "      <td>fortwo</td>\n",
       "      <td>125000</td>\n",
       "      <td>3</td>\n",
       "      <td>petrol</td>\n",
       "      <td>smart</td>\n",
       "      <td>no</td>\n",
       "      <td>2016-03-05 00:00:00</td>\n",
       "      <td>0</td>\n",
       "      <td>26135</td>\n",
       "      <td>2016-03-11 18:17:12</td>\n",
       "    </tr>\n",
       "    <tr>\n",
       "      <td>354367</td>\n",
       "      <td>2016-03-19 18:57:12</td>\n",
       "      <td>9200</td>\n",
       "      <td>bus</td>\n",
       "      <td>1996</td>\n",
       "      <td>manual</td>\n",
       "      <td>102</td>\n",
       "      <td>transporter</td>\n",
       "      <td>150000</td>\n",
       "      <td>3</td>\n",
       "      <td>gasoline</td>\n",
       "      <td>volkswagen</td>\n",
       "      <td>no</td>\n",
       "      <td>2016-03-19 00:00:00</td>\n",
       "      <td>0</td>\n",
       "      <td>87439</td>\n",
       "      <td>2016-04-07 07:15:26</td>\n",
       "    </tr>\n",
       "    <tr>\n",
       "      <td>354368</td>\n",
       "      <td>2016-03-20 19:41:08</td>\n",
       "      <td>3400</td>\n",
       "      <td>wagon</td>\n",
       "      <td>2002</td>\n",
       "      <td>manual</td>\n",
       "      <td>100</td>\n",
       "      <td>golf</td>\n",
       "      <td>150000</td>\n",
       "      <td>6</td>\n",
       "      <td>gasoline</td>\n",
       "      <td>volkswagen</td>\n",
       "      <td>NaN</td>\n",
       "      <td>2016-03-20 00:00:00</td>\n",
       "      <td>0</td>\n",
       "      <td>40764</td>\n",
       "      <td>2016-03-24 12:45:21</td>\n",
       "    </tr>\n",
       "  </tbody>\n",
       "</table>\n",
       "<p>321954 rows × 16 columns</p>\n",
       "</div>"
      ],
      "text/plain": [
       "                datecrawled  price  vehicletype  registrationyear gearbox  \\\n",
       "0       2016-03-24 11:52:17    480        sedan              1993  manual   \n",
       "2       2016-03-14 12:52:21   9800          suv              2004    auto   \n",
       "3       2016-03-17 16:54:04   1500        small              2001  manual   \n",
       "4       2016-03-31 17:25:20   3600        small              2008  manual   \n",
       "5       2016-04-04 17:36:23    650        sedan              1995  manual   \n",
       "...                     ...    ...          ...               ...     ...   \n",
       "354363  2016-03-27 20:36:20   1150          bus              2000  manual   \n",
       "354364  2016-03-21 09:50:58      0        sedan              2005  manual   \n",
       "354366  2016-03-05 19:56:21   1199  convertible              2000    auto   \n",
       "354367  2016-03-19 18:57:12   9200          bus              1996  manual   \n",
       "354368  2016-03-20 19:41:08   3400        wagon              2002  manual   \n",
       "\n",
       "        power        model  kilometer  registrationmonth  fueltype  \\\n",
       "0           0         golf     150000                  0    petrol   \n",
       "2         163        grand     125000                  8  gasoline   \n",
       "3          75         golf     150000                  6    petrol   \n",
       "4          69        fabia      90000                  7  gasoline   \n",
       "5         102          3er     150000                 10    petrol   \n",
       "...       ...          ...        ...                ...       ...   \n",
       "354363      0       zafira     150000                  3    petrol   \n",
       "354364      0         colt     150000                  7    petrol   \n",
       "354366    101       fortwo     125000                  3    petrol   \n",
       "354367    102  transporter     150000                  3  gasoline   \n",
       "354368    100         golf     150000                  6  gasoline   \n",
       "\n",
       "             brand notrepaired          datecreated  numberofpictures  \\\n",
       "0       volkswagen         NaN  2016-03-24 00:00:00                 0   \n",
       "2             jeep         NaN  2016-03-14 00:00:00                 0   \n",
       "3       volkswagen          no  2016-03-17 00:00:00                 0   \n",
       "4            skoda          no  2016-03-31 00:00:00                 0   \n",
       "5              bmw         yes  2016-04-04 00:00:00                 0   \n",
       "...            ...         ...                  ...               ...   \n",
       "354363        opel          no  2016-03-27 00:00:00                 0   \n",
       "354364  mitsubishi         yes  2016-03-21 00:00:00                 0   \n",
       "354366       smart          no  2016-03-05 00:00:00                 0   \n",
       "354367  volkswagen          no  2016-03-19 00:00:00                 0   \n",
       "354368  volkswagen         NaN  2016-03-20 00:00:00                 0   \n",
       "\n",
       "        postalcode             lastseen  \n",
       "0            70435  2016-04-07 03:16:57  \n",
       "2            90480  2016-04-05 12:47:46  \n",
       "3            91074  2016-03-17 17:40:17  \n",
       "4            60437  2016-04-06 10:17:21  \n",
       "5            33775  2016-04-06 19:17:07  \n",
       "...            ...                  ...  \n",
       "354363       26624  2016-03-29 10:17:23  \n",
       "354364        2694  2016-03-21 10:42:49  \n",
       "354366       26135  2016-03-11 18:17:12  \n",
       "354367       87439  2016-04-07 07:15:26  \n",
       "354368       40764  2016-03-24 12:45:21  \n",
       "\n",
       "[321954 rows x 16 columns]"
      ]
     },
     "execution_count": 28,
     "metadata": {},
     "output_type": "execute_result"
    }
   ],
   "source": [
    "data"
   ]
  },
  {
   "cell_type": "markdown",
   "metadata": {},
   "source": [
    "Теперь, когда пропусков больше нет, проверим датасет на остальные аномалии. Начнем с мощности машин."
   ]
  },
  {
   "cell_type": "code",
   "execution_count": 29,
   "metadata": {},
   "outputs": [
    {
     "data": {
      "image/png": "[encoded data removed]",
      "text/plain": [
       "<Figure size 432x288 with 1 Axes>"
      ]
     },
     "metadata": {
      "needs_background": "light"
     },
     "output_type": "display_data"
    }
   ],
   "source": [
    "data.boxplot(column=['power']);"
   ]
  },
  {
   "cell_type": "markdown",
   "metadata": {},
   "source": [
    "[Тут](https://rating-avto.ru/raznoe/samyie-moshhnyie-avtomobilnyie-dvigateli.html) сказано, что максимальная мощность автомобильного двигателя 797 лошадинных сил у автомобиля Dodge Challenger. Это и возьмем за верхнюю границу."
   ]
  },
  {
   "cell_type": "code",
   "execution_count": 30,
   "metadata": {},
   "outputs": [
    {
     "name": "stdout",
     "output_type": "stream",
     "text": [
      "До удаления, строк - 321954\n",
      "После удаления, строк - 321683\n"
     ]
    },
    {
     "data": {
      "image/png": "[encoded data removed]",
      "text/plain": [
       "<Figure size 432x288 with 1 Axes>"
      ]
     },
     "metadata": {
      "needs_background": "light"
     },
     "output_type": "display_data"
    }
   ],
   "source": [
    "print(\"До удаления, строк -\", data.shape[0])\n",
    "data = data[data['power']<798]\n",
    "print(\"После удаления, строк -\", data.shape[0])\n",
    "data.boxplot(column=['power']);"
   ]
  },
  {
   "cell_type": "markdown",
   "metadata": {},
   "source": [
    "Посмотрим строки и их количество у автомобилей с 0 лошадинными силами."
   ]
  },
  {
   "cell_type": "code",
   "execution_count": 31,
   "metadata": {
    "scrolled": true
   },
   "outputs": [
    {
     "data": {
      "text/html": [
       "<div>\n",
       "<style scoped>\n",
       "    .dataframe tbody tr th:only-of-type {\n",
       "        vertical-align: middle;\n",
       "    }\n",
       "\n",
       "    .dataframe tbody tr th {\n",
       "        vertical-align: top;\n",
       "    }\n",
       "\n",
       "    .dataframe thead th {\n",
       "        text-align: right;\n",
       "    }\n",
       "</style>\n",
       "<table border=\"1\" class=\"dataframe\">\n",
       "  <thead>\n",
       "    <tr style=\"text-align: right;\">\n",
       "      <th></th>\n",
       "      <th>datecrawled</th>\n",
       "      <th>price</th>\n",
       "      <th>vehicletype</th>\n",
       "      <th>registrationyear</th>\n",
       "      <th>gearbox</th>\n",
       "      <th>power</th>\n",
       "      <th>model</th>\n",
       "      <th>kilometer</th>\n",
       "      <th>registrationmonth</th>\n",
       "      <th>fueltype</th>\n",
       "      <th>brand</th>\n",
       "      <th>notrepaired</th>\n",
       "      <th>datecreated</th>\n",
       "      <th>numberofpictures</th>\n",
       "      <th>postalcode</th>\n",
       "      <th>lastseen</th>\n",
       "    </tr>\n",
       "  </thead>\n",
       "  <tbody>\n",
       "    <tr>\n",
       "      <td>0</td>\n",
       "      <td>2016-03-24 11:52:17</td>\n",
       "      <td>480</td>\n",
       "      <td>sedan</td>\n",
       "      <td>1993</td>\n",
       "      <td>manual</td>\n",
       "      <td>0</td>\n",
       "      <td>golf</td>\n",
       "      <td>150000</td>\n",
       "      <td>0</td>\n",
       "      <td>petrol</td>\n",
       "      <td>volkswagen</td>\n",
       "      <td>NaN</td>\n",
       "      <td>2016-03-24 00:00:00</td>\n",
       "      <td>0</td>\n",
       "      <td>70435</td>\n",
       "      <td>2016-04-07 03:16:57</td>\n",
       "    </tr>\n",
       "    <tr>\n",
       "      <td>32</td>\n",
       "      <td>2016-03-15 20:59:01</td>\n",
       "      <td>245</td>\n",
       "      <td>sedan</td>\n",
       "      <td>1994</td>\n",
       "      <td>manual</td>\n",
       "      <td>0</td>\n",
       "      <td>golf</td>\n",
       "      <td>150000</td>\n",
       "      <td>2</td>\n",
       "      <td>petrol</td>\n",
       "      <td>volkswagen</td>\n",
       "      <td>no</td>\n",
       "      <td>2016-03-15 00:00:00</td>\n",
       "      <td>0</td>\n",
       "      <td>44145</td>\n",
       "      <td>2016-03-17 18:17:43</td>\n",
       "    </tr>\n",
       "    <tr>\n",
       "      <td>37</td>\n",
       "      <td>2016-03-28 17:50:15</td>\n",
       "      <td>1500</td>\n",
       "      <td>bus</td>\n",
       "      <td>2016</td>\n",
       "      <td>manual</td>\n",
       "      <td>0</td>\n",
       "      <td>kangoo</td>\n",
       "      <td>150000</td>\n",
       "      <td>1</td>\n",
       "      <td>gasoline</td>\n",
       "      <td>renault</td>\n",
       "      <td>no</td>\n",
       "      <td>2016-03-28 00:00:00</td>\n",
       "      <td>0</td>\n",
       "      <td>46483</td>\n",
       "      <td>2016-03-30 09:18:02</td>\n",
       "    </tr>\n",
       "    <tr>\n",
       "      <td>40</td>\n",
       "      <td>2016-03-26 22:06:17</td>\n",
       "      <td>0</td>\n",
       "      <td>small</td>\n",
       "      <td>1990</td>\n",
       "      <td>manual</td>\n",
       "      <td>0</td>\n",
       "      <td>corsa</td>\n",
       "      <td>150000</td>\n",
       "      <td>1</td>\n",
       "      <td>petrol</td>\n",
       "      <td>opel</td>\n",
       "      <td>NaN</td>\n",
       "      <td>2016-03-26 00:00:00</td>\n",
       "      <td>0</td>\n",
       "      <td>56412</td>\n",
       "      <td>2016-03-27 17:43:34</td>\n",
       "    </tr>\n",
       "    <tr>\n",
       "      <td>54</td>\n",
       "      <td>2016-03-17 07:56:40</td>\n",
       "      <td>4700</td>\n",
       "      <td>wagon</td>\n",
       "      <td>2005</td>\n",
       "      <td>manual</td>\n",
       "      <td>0</td>\n",
       "      <td>signum</td>\n",
       "      <td>150000</td>\n",
       "      <td>0</td>\n",
       "      <td>gasoline</td>\n",
       "      <td>opel</td>\n",
       "      <td>no</td>\n",
       "      <td>2016-03-17 00:00:00</td>\n",
       "      <td>0</td>\n",
       "      <td>88433</td>\n",
       "      <td>2016-04-04 04:17:32</td>\n",
       "    </tr>\n",
       "    <tr>\n",
       "      <td>...</td>\n",
       "      <td>...</td>\n",
       "      <td>...</td>\n",
       "      <td>...</td>\n",
       "      <td>...</td>\n",
       "      <td>...</td>\n",
       "      <td>...</td>\n",
       "      <td>...</td>\n",
       "      <td>...</td>\n",
       "      <td>...</td>\n",
       "      <td>...</td>\n",
       "      <td>...</td>\n",
       "      <td>...</td>\n",
       "      <td>...</td>\n",
       "      <td>...</td>\n",
       "      <td>...</td>\n",
       "      <td>...</td>\n",
       "    </tr>\n",
       "    <tr>\n",
       "      <td>354336</td>\n",
       "      <td>2016-03-05 18:57:45</td>\n",
       "      <td>3299</td>\n",
       "      <td>suv</td>\n",
       "      <td>2005</td>\n",
       "      <td>auto</td>\n",
       "      <td>0</td>\n",
       "      <td>outlander</td>\n",
       "      <td>150000</td>\n",
       "      <td>4</td>\n",
       "      <td>petrol</td>\n",
       "      <td>mitsubishi</td>\n",
       "      <td>NaN</td>\n",
       "      <td>2016-03-05 00:00:00</td>\n",
       "      <td>0</td>\n",
       "      <td>17034</td>\n",
       "      <td>2016-03-06 04:17:37</td>\n",
       "    </tr>\n",
       "    <tr>\n",
       "      <td>354346</td>\n",
       "      <td>2016-03-07 17:06:35</td>\n",
       "      <td>2600</td>\n",
       "      <td>sedan</td>\n",
       "      <td>2005</td>\n",
       "      <td>auto</td>\n",
       "      <td>0</td>\n",
       "      <td>c_klasse</td>\n",
       "      <td>150000</td>\n",
       "      <td>9</td>\n",
       "      <td>petrol</td>\n",
       "      <td>mercedes_benz</td>\n",
       "      <td>NaN</td>\n",
       "      <td>2016-03-07 00:00:00</td>\n",
       "      <td>0</td>\n",
       "      <td>61169</td>\n",
       "      <td>2016-03-08 21:28:38</td>\n",
       "    </tr>\n",
       "    <tr>\n",
       "      <td>354360</td>\n",
       "      <td>2016-04-02 20:37:03</td>\n",
       "      <td>3999</td>\n",
       "      <td>wagon</td>\n",
       "      <td>2005</td>\n",
       "      <td>manual</td>\n",
       "      <td>3</td>\n",
       "      <td>3er</td>\n",
       "      <td>150000</td>\n",
       "      <td>5</td>\n",
       "      <td>gasoline</td>\n",
       "      <td>bmw</td>\n",
       "      <td>no</td>\n",
       "      <td>2016-04-02 00:00:00</td>\n",
       "      <td>0</td>\n",
       "      <td>81825</td>\n",
       "      <td>2016-04-06 20:47:12</td>\n",
       "    </tr>\n",
       "    <tr>\n",
       "      <td>354363</td>\n",
       "      <td>2016-03-27 20:36:20</td>\n",
       "      <td>1150</td>\n",
       "      <td>bus</td>\n",
       "      <td>2000</td>\n",
       "      <td>manual</td>\n",
       "      <td>0</td>\n",
       "      <td>zafira</td>\n",
       "      <td>150000</td>\n",
       "      <td>3</td>\n",
       "      <td>petrol</td>\n",
       "      <td>opel</td>\n",
       "      <td>no</td>\n",
       "      <td>2016-03-27 00:00:00</td>\n",
       "      <td>0</td>\n",
       "      <td>26624</td>\n",
       "      <td>2016-03-29 10:17:23</td>\n",
       "    </tr>\n",
       "    <tr>\n",
       "      <td>354364</td>\n",
       "      <td>2016-03-21 09:50:58</td>\n",
       "      <td>0</td>\n",
       "      <td>sedan</td>\n",
       "      <td>2005</td>\n",
       "      <td>manual</td>\n",
       "      <td>0</td>\n",
       "      <td>colt</td>\n",
       "      <td>150000</td>\n",
       "      <td>7</td>\n",
       "      <td>petrol</td>\n",
       "      <td>mitsubishi</td>\n",
       "      <td>yes</td>\n",
       "      <td>2016-03-21 00:00:00</td>\n",
       "      <td>0</td>\n",
       "      <td>2694</td>\n",
       "      <td>2016-03-21 10:42:49</td>\n",
       "    </tr>\n",
       "  </tbody>\n",
       "</table>\n",
       "<p>30854 rows × 16 columns</p>\n",
       "</div>"
      ],
      "text/plain": [
       "                datecrawled  price vehicletype  registrationyear gearbox  \\\n",
       "0       2016-03-24 11:52:17    480       sedan              1993  manual   \n",
       "32      2016-03-15 20:59:01    245       sedan              1994  manual   \n",
       "37      2016-03-28 17:50:15   1500         bus              2016  manual   \n",
       "40      2016-03-26 22:06:17      0       small              1990  manual   \n",
       "54      2016-03-17 07:56:40   4700       wagon              2005  manual   \n",
       "...                     ...    ...         ...               ...     ...   \n",
       "354336  2016-03-05 18:57:45   3299         suv              2005    auto   \n",
       "354346  2016-03-07 17:06:35   2600       sedan              2005    auto   \n",
       "354360  2016-04-02 20:37:03   3999       wagon              2005  manual   \n",
       "354363  2016-03-27 20:36:20   1150         bus              2000  manual   \n",
       "354364  2016-03-21 09:50:58      0       sedan              2005  manual   \n",
       "\n",
       "        power      model  kilometer  registrationmonth  fueltype  \\\n",
       "0           0       golf     150000                  0    petrol   \n",
       "32          0       golf     150000                  2    petrol   \n",
       "37          0     kangoo     150000                  1  gasoline   \n",
       "40          0      corsa     150000                  1    petrol   \n",
       "54          0     signum     150000                  0  gasoline   \n",
       "...       ...        ...        ...                ...       ...   \n",
       "354336      0  outlander     150000                  4    petrol   \n",
       "354346      0   c_klasse     150000                  9    petrol   \n",
       "354360      3        3er     150000                  5  gasoline   \n",
       "354363      0     zafira     150000                  3    petrol   \n",
       "354364      0       colt     150000                  7    petrol   \n",
       "\n",
       "                brand notrepaired          datecreated  numberofpictures  \\\n",
       "0          volkswagen         NaN  2016-03-24 00:00:00                 0   \n",
       "32         volkswagen          no  2016-03-15 00:00:00                 0   \n",
       "37            renault          no  2016-03-28 00:00:00                 0   \n",
       "40               opel         NaN  2016-03-26 00:00:00                 0   \n",
       "54               opel          no  2016-03-17 00:00:00                 0   \n",
       "...               ...         ...                  ...               ...   \n",
       "354336     mitsubishi         NaN  2016-03-05 00:00:00                 0   \n",
       "354346  mercedes_benz         NaN  2016-03-07 00:00:00                 0   \n",
       "354360            bmw          no  2016-04-02 00:00:00                 0   \n",
       "354363           opel          no  2016-03-27 00:00:00                 0   \n",
       "354364     mitsubishi         yes  2016-03-21 00:00:00                 0   \n",
       "\n",
       "        postalcode             lastseen  \n",
       "0            70435  2016-04-07 03:16:57  \n",
       "32           44145  2016-03-17 18:17:43  \n",
       "37           46483  2016-03-30 09:18:02  \n",
       "40           56412  2016-03-27 17:43:34  \n",
       "54           88433  2016-04-04 04:17:32  \n",
       "...            ...                  ...  \n",
       "354336       17034  2016-03-06 04:17:37  \n",
       "354346       61169  2016-03-08 21:28:38  \n",
       "354360       81825  2016-04-06 20:47:12  \n",
       "354363       26624  2016-03-29 10:17:23  \n",
       "354364        2694  2016-03-21 10:42:49  \n",
       "\n",
       "[30854 rows x 16 columns]"
      ]
     },
     "execution_count": 31,
     "metadata": {},
     "output_type": "execute_result"
    }
   ],
   "source": [
    "data[data['power'] <10]"
   ]
  },
  {
   "cell_type": "markdown",
   "metadata": {},
   "source": [
    "Достаточно много. Изучим распределение мощности у конкретной марки автомобиля."
   ]
  },
  {
   "cell_type": "code",
   "execution_count": 32,
   "metadata": {},
   "outputs": [
    {
     "data": {
      "text/plain": [
       "<matplotlib.axes._subplots.AxesSubplot at 0x7f17b739e050>"
      ]
     },
     "execution_count": 32,
     "metadata": {},
     "output_type": "execute_result"
    },
    {
     "data": {
      "image/png": "[encoded data removed]",
      "text/plain": [
       "<Figure size 432x288 with 1 Axes>"
      ]
     },
     "metadata": {
      "needs_background": "light"
     },
     "output_type": "display_data"
    }
   ],
   "source": [
    "data[(data['brand']==\"volkswagen\") & (data['model']==\"golf\")]['power'].hist()"
   ]
  },
  {
   "cell_type": "markdown",
   "metadata": {},
   "source": [
    "Для автомобилей с мощностью менее 10 лошадинных сил заменим значение на среднее."
   ]
  },
  {
   "cell_type": "code",
   "execution_count": 33,
   "metadata": {},
   "outputs": [
    {
     "data": {
      "text/html": [
       "<div>\n",
       "<style scoped>\n",
       "    .dataframe tbody tr th:only-of-type {\n",
       "        vertical-align: middle;\n",
       "    }\n",
       "\n",
       "    .dataframe tbody tr th {\n",
       "        vertical-align: top;\n",
       "    }\n",
       "\n",
       "    .dataframe thead th {\n",
       "        text-align: right;\n",
       "    }\n",
       "</style>\n",
       "<table border=\"1\" class=\"dataframe\">\n",
       "  <thead>\n",
       "    <tr style=\"text-align: right;\">\n",
       "      <th></th>\n",
       "      <th>brand</th>\n",
       "      <th>model</th>\n",
       "      <th>power</th>\n",
       "    </tr>\n",
       "  </thead>\n",
       "  <tbody>\n",
       "    <tr>\n",
       "      <td>0</td>\n",
       "      <td>alfa_romeo</td>\n",
       "      <td>145</td>\n",
       "      <td>111.972222</td>\n",
       "    </tr>\n",
       "    <tr>\n",
       "      <td>1</td>\n",
       "      <td>alfa_romeo</td>\n",
       "      <td>147</td>\n",
       "      <td>120.656746</td>\n",
       "    </tr>\n",
       "    <tr>\n",
       "      <td>2</td>\n",
       "      <td>alfa_romeo</td>\n",
       "      <td>156</td>\n",
       "      <td>150.904085</td>\n",
       "    </tr>\n",
       "    <tr>\n",
       "      <td>3</td>\n",
       "      <td>alfa_romeo</td>\n",
       "      <td>159</td>\n",
       "      <td>173.196970</td>\n",
       "    </tr>\n",
       "    <tr>\n",
       "      <td>4</td>\n",
       "      <td>alfa_romeo</td>\n",
       "      <td>other</td>\n",
       "      <td>148.424947</td>\n",
       "    </tr>\n",
       "  </tbody>\n",
       "</table>\n",
       "</div>"
      ],
      "text/plain": [
       "        brand  model       power\n",
       "0  alfa_romeo    145  111.972222\n",
       "1  alfa_romeo    147  120.656746\n",
       "2  alfa_romeo    156  150.904085\n",
       "3  alfa_romeo    159  173.196970\n",
       "4  alfa_romeo  other  148.424947"
      ]
     },
     "execution_count": 33,
     "metadata": {},
     "output_type": "execute_result"
    }
   ],
   "source": [
    "power = (data[data['power']>10]\n",
    "    .pivot_table(index=['brand','model'], values = ['power'], aggfunc='mean')).reset_index()\n",
    "power.head()"
   ]
  },
  {
   "cell_type": "code",
   "execution_count": 34,
   "metadata": {},
   "outputs": [
    {
     "name": "stdout",
     "output_type": "stream",
     "text": [
      "CPU times: user 8.08 s, sys: 132 ms, total: 8.21 s\n",
      "Wall time: 8.23 s\n"
     ]
    }
   ],
   "source": [
    "%%time\n",
    "dict_power = power.set_index(['brand', 'model'])['power'].to_dict()\n",
    "def set_power(string):\n",
    "    if string['power']<=10:\n",
    "        try:\n",
    "            return dict_power[(string['brand'], string['model'])]\n",
    "        except:\n",
    "            return np.nan\n",
    "    else:\n",
    "        return string['power']\n",
    "data['power'] = data.apply(set_power ,axis=1)\n",
    "data = data.dropna() #2 строчки остунутся без значения, сразу удалим их"
   ]
  },
  {
   "cell_type": "markdown",
   "metadata": {},
   "source": [
    "Оценим качество целевого признака."
   ]
  },
  {
   "cell_type": "code",
   "execution_count": 35,
   "metadata": {},
   "outputs": [
    {
     "data": {
      "image/png": "[encoded data removed]",
      "text/plain": [
       "<Figure size 432x288 with 1 Axes>"
      ]
     },
     "metadata": {
      "needs_background": "light"
     },
     "output_type": "display_data"
    }
   ],
   "source": [
    "data['price'].hist();"
   ]
  },
  {
   "cell_type": "markdown",
   "metadata": {},
   "source": [
    "Распределение нормальное. Просмотрим автомобили с очень низкими ценами, включая 0."
   ]
  },
  {
   "cell_type": "code",
   "execution_count": 36,
   "metadata": {},
   "outputs": [
    {
     "name": "stdout",
     "output_type": "stream",
     "text": [
      "Цена менее 50 евро - 5349\n",
      "Цена 0 евро - 137\n"
     ]
    }
   ],
   "source": [
    "print('Цена менее 50 евро -', data[data['price']<100].count()['datecrawled'])\n",
    "print('Цена 0 евро -', data[data['price']==50].count()['datecrawled'])"
   ]
  },
  {
   "cell_type": "markdown",
   "metadata": {},
   "source": [
    "За 50 евро автомобиль выгоднее сдать на металлолом или запчасти. Автомобили с ценой 0 евро не подходят для обучения модели. Удалим критически дешевые и бесплатные автомобили."
   ]
  },
  {
   "cell_type": "code",
   "execution_count": 37,
   "metadata": {},
   "outputs": [],
   "source": [
    "data = data[data['price']>50]"
   ]
  },
  {
   "cell_type": "markdown",
   "metadata": {},
   "source": [
    "На этом предобработку данных считаю законченной."
   ]
  },
  {
   "cell_type": "markdown",
   "metadata": {},
   "source": [
    "## Обучение моделей"
   ]
  },
  {
   "cell_type": "markdown",
   "metadata": {},
   "source": [
    "Разобьем данные по признакам."
   ]
  },
  {
   "cell_type": "code",
   "execution_count": 38,
   "metadata": {},
   "outputs": [],
   "source": [
    "features = data.drop(['datecrawled','price','registrationmonth', 'datecreated', 'numberofpictures', 'postalcode', 'lastseen'] ,axis=1)\n",
    "features_dummies = pd.get_dummies(features, drop_first=True)\n",
    "target = data['price']"
   ]
  },
  {
   "cell_type": "markdown",
   "metadata": {},
   "source": [
    "Разобьем данные на тестовую и обучающую выборки."
   ]
  },
  {
   "cell_type": "code",
   "execution_count": 39,
   "metadata": {},
   "outputs": [],
   "source": [
    "X_train, X_test, y_train, y_test = train_test_split(\n",
    "    features_dummies, target, test_size=.25, random_state=12345)"
   ]
  },
  {
   "cell_type": "markdown",
   "metadata": {},
   "source": [
    "Найдем RMSE для предсказания средним по обучающей выборке."
   ]
  },
  {
   "cell_type": "code",
   "execution_count": 40,
   "metadata": {},
   "outputs": [
    {
     "name": "stdout",
     "output_type": "stream",
     "text": [
      "CPU times: user 3.35 ms, sys: 0 ns, total: 3.35 ms\n",
      "Wall time: 2.19 ms\n"
     ]
    },
    {
     "data": {
      "text/plain": [
       "4668.655762292769"
      ]
     },
     "execution_count": 40,
     "metadata": {},
     "output_type": "execute_result"
    }
   ],
   "source": [
    "%%time\n",
    "mean_price = np.full(X_test.shape[0], y_train.mean())\n",
    "mean_RMSE = mean_squared_error(y_test, np.full(X_test.shape[0], mean_price))**.5\n",
    "mean_RMSE"
   ]
  },
  {
   "cell_type": "markdown",
   "metadata": {},
   "source": [
    "Значение достаточно большое. Но зато есть, с чем сравнить. Обучим линейную регрессию."
   ]
  },
  {
   "cell_type": "code",
   "execution_count": 41,
   "metadata": {},
   "outputs": [
    {
     "name": "stdout",
     "output_type": "stream",
     "text": [
      "CPU times: user 14.9 s, sys: 4.12 s, total: 19 s\n",
      "Wall time: 19 s\n"
     ]
    },
    {
     "data": {
      "text/plain": [
       "2594.9780013810127"
      ]
     },
     "execution_count": 41,
     "metadata": {},
     "output_type": "execute_result"
    }
   ],
   "source": [
    "%%time\n",
    "model_linear = LinearRegression()\n",
    "model_linear.fit(X_train, y_train)\n",
    "model_linear_RMSE = mean_squared_error(y_test, model_linear.predict(X_test))**.5\n",
    "model_linear_RMSE"
   ]
  },
  {
   "cell_type": "code",
   "execution_count": 42,
   "metadata": {},
   "outputs": [
    {
     "name": "stdout",
     "output_type": "stream",
     "text": [
      "CPU times: user 96.2 ms, sys: 65.5 ms, total: 162 ms\n",
      "Wall time: 138 ms\n"
     ]
    },
    {
     "data": {
      "text/plain": [
       "array([ 5065.40880541,  6341.00939321, -2072.87357381, ...,\n",
       "         449.21802282,  2738.95471565,  4081.51582851])"
      ]
     },
     "execution_count": 42,
     "metadata": {},
     "output_type": "execute_result"
    }
   ],
   "source": [
    "%%time\n",
    "#Посчитаем время предсказания\n",
    "model_linear.predict(X_test)"
   ]
  },
  {
   "cell_type": "markdown",
   "metadata": {},
   "source": [
    "Значение получилось намного лучше, чем заполнение средним, но все равно достаточно большим. Обучим случайный лес."
   ]
  },
  {
   "cell_type": "code",
   "execution_count": 43,
   "metadata": {},
   "outputs": [
    {
     "name": "stdout",
     "output_type": "stream",
     "text": [
      "{'max_depth': 11, 'n_estimators': 70}\n",
      "CPU times: user 8min 10s, sys: 842 ms, total: 8min 11s\n",
      "Wall time: 8min 18s\n"
     ]
    },
    {
     "data": {
      "text/plain": [
       "('Лучший результат,', 1833.3583883223703)"
      ]
     },
     "execution_count": 43,
     "metadata": {},
     "output_type": "execute_result"
    }
   ],
   "source": [
    "%%time\n",
    "parametrs = { 'n_estimators': range (70, 71, 10),#значения зафиксированны для ускорения\n",
    "              'max_depth': range (11, 12, 2)}\n",
    "clf = RandomForestRegressor(random_state=12345)\n",
    "grid = GridSearchCV(clf, parametrs, cv=2, scoring = 'neg_mean_squared_error')\n",
    "grid.fit(features_dummies, target)\n",
    "forest_model = grid.best_estimator_\n",
    "forest_score = grid.best_score_\n",
    "print(grid.best_params_)\n",
    "\"Лучший результат,\",abs(forest_score)**.5"
   ]
  },
  {
   "cell_type": "code",
   "execution_count": 44,
   "metadata": {},
   "outputs": [
    {
     "name": "stdout",
     "output_type": "stream",
     "text": [
      "CPU times: user 592 ms, sys: 64.1 ms, total: 656 ms\n",
      "Wall time: 666 ms\n"
     ]
    },
    {
     "data": {
      "text/plain": [
       "array([3356.88283438, 5703.88741068,  608.50523104, ..., 1307.02471043,\n",
       "       2706.35945921, 3177.72070878])"
      ]
     },
     "execution_count": 44,
     "metadata": {},
     "output_type": "execute_result"
    }
   ],
   "source": [
    "%%time\n",
    "#Посчитаем время предсказания\n",
    "forest_model.predict(X_test)"
   ]
  },
  {
   "cell_type": "markdown",
   "metadata": {},
   "source": [
    "Обучим градиентную модель из библиотеки LightGBM."
   ]
  },
  {
   "cell_type": "code",
   "execution_count": 45,
   "metadata": {
    "scrolled": true
   },
   "outputs": [
    {
     "name": "stdout",
     "output_type": "stream",
     "text": [
      "{'max_depth': 11, 'n_estimators': 100}\n",
      "Лучший результат, 1683.634481150884\n",
      "CPU times: user 2min 6s, sys: 5.49 s, total: 2min 11s\n",
      "Wall time: 2min 13s\n"
     ]
    }
   ],
   "source": [
    "%%time\n",
    "parametrs = { 'n_estimators': range (80, 101, 10),\n",
    "                  'max_depth': range (9, 13, 2)}\n",
    "def LightGBM(features_1, target_1, parametrs=parametrs):\n",
    "    clf = LGBMRegressor(random_state=12345)\n",
    "    grid = GridSearchCV(clf, parametrs, cv=2, scoring = 'neg_mean_squared_error')\n",
    "    grid.fit(features_1, target_1)\n",
    "    boost_model = grid.best_estimator_\n",
    "    boost_score = grid.best_score_\n",
    "    print(grid.best_params_)\n",
    "    print(\"Лучший результат,\",abs(boost_score)**.5)\n",
    "    return boost_model, boost_score\n",
    "boost_model, boost_score = LightGBM(features_dummies, target)"
   ]
  },
  {
   "cell_type": "code",
   "execution_count": 46,
   "metadata": {},
   "outputs": [
    {
     "name": "stdout",
     "output_type": "stream",
     "text": [
      "CPU times: user 910 ms, sys: 80.5 ms, total: 990 ms\n",
      "Wall time: 995 ms\n"
     ]
    },
    {
     "data": {
      "text/plain": [
       "array([3387.64599252, 6176.83530299,  343.53911637, ..., 1357.21065594,\n",
       "       2583.08196102, 3014.96243058])"
      ]
     },
     "execution_count": 46,
     "metadata": {},
     "output_type": "execute_result"
    }
   ],
   "source": [
    "%%time\n",
    "#Посчитаем время предсказания\n",
    "boost_model.predict(X_test)"
   ]
  },
  {
   "cell_type": "markdown",
   "metadata": {},
   "source": [
    "Результаты обучения занесем в датафрейм. Время обучения сведем к 1й итерации (время обучения на 1х параметрах), что бы разные модели можно было сравнить."
   ]
  },
  {
   "cell_type": "code",
   "execution_count": 47,
   "metadata": {
    "scrolled": true
   },
   "outputs": [],
   "source": [
    "result = pd.DataFrame({'RMSE':[round(mean_RMSE),round(model_linear_RMSE),round(abs(forest_score)**.5),round(abs(boost_score)**.5)],\n",
    "              'Время 1й итерации, секунд':[0, 24.9,574/2,123/12],\n",
    "                'Время предсказания, секунд':[0,0.13,0.7,1.18]},\n",
    "             index =['Заполнение средним','Линейная регрессия', 'Случайный лес', 'LightGBM'])"
   ]
  },
  {
   "cell_type": "markdown",
   "metadata": {},
   "source": [
    "## Дополнительные исследования\n",
    "Тут сделаю дополнительные пункты по улучшению предсказаний. Для предсказаний буду использовать только `LightGBM`, т.к. он и работает быстрее, и предсказывает точнее.\n",
    "### ordinal-категоризация\n",
    "\n",
    "Применим технику кодирования категориальных признаков Ordinal Encoding."
   ]
  },
  {
   "cell_type": "code",
   "execution_count": 48,
   "metadata": {},
   "outputs": [
    {
     "data": {
      "text/html": [
       "<div>\n",
       "<style scoped>\n",
       "    .dataframe tbody tr th:only-of-type {\n",
       "        vertical-align: middle;\n",
       "    }\n",
       "\n",
       "    .dataframe tbody tr th {\n",
       "        vertical-align: top;\n",
       "    }\n",
       "\n",
       "    .dataframe thead th {\n",
       "        text-align: right;\n",
       "    }\n",
       "</style>\n",
       "<table border=\"1\" class=\"dataframe\">\n",
       "  <thead>\n",
       "    <tr style=\"text-align: right;\">\n",
       "      <th></th>\n",
       "      <th>vehicletype</th>\n",
       "      <th>registrationyear</th>\n",
       "      <th>gearbox</th>\n",
       "      <th>power</th>\n",
       "      <th>model</th>\n",
       "      <th>kilometer</th>\n",
       "      <th>fueltype</th>\n",
       "      <th>brand</th>\n",
       "      <th>notrepaired</th>\n",
       "    </tr>\n",
       "  </thead>\n",
       "  <tbody>\n",
       "    <tr>\n",
       "      <td>3</td>\n",
       "      <td>5.0</td>\n",
       "      <td>2001</td>\n",
       "      <td>1.0</td>\n",
       "      <td>75.0</td>\n",
       "      <td>116.0</td>\n",
       "      <td>150000</td>\n",
       "      <td>6.0</td>\n",
       "      <td>37.0</td>\n",
       "      <td>0.0</td>\n",
       "    </tr>\n",
       "    <tr>\n",
       "      <td>4</td>\n",
       "      <td>5.0</td>\n",
       "      <td>2008</td>\n",
       "      <td>1.0</td>\n",
       "      <td>69.0</td>\n",
       "      <td>101.0</td>\n",
       "      <td>90000</td>\n",
       "      <td>2.0</td>\n",
       "      <td>31.0</td>\n",
       "      <td>0.0</td>\n",
       "    </tr>\n",
       "    <tr>\n",
       "      <td>5</td>\n",
       "      <td>4.0</td>\n",
       "      <td>1995</td>\n",
       "      <td>1.0</td>\n",
       "      <td>102.0</td>\n",
       "      <td>11.0</td>\n",
       "      <td>150000</td>\n",
       "      <td>6.0</td>\n",
       "      <td>2.0</td>\n",
       "      <td>1.0</td>\n",
       "    </tr>\n",
       "    <tr>\n",
       "      <td>6</td>\n",
       "      <td>1.0</td>\n",
       "      <td>2004</td>\n",
       "      <td>1.0</td>\n",
       "      <td>109.0</td>\n",
       "      <td>8.0</td>\n",
       "      <td>150000</td>\n",
       "      <td>6.0</td>\n",
       "      <td>25.0</td>\n",
       "      <td>0.0</td>\n",
       "    </tr>\n",
       "    <tr>\n",
       "      <td>10</td>\n",
       "      <td>4.0</td>\n",
       "      <td>2004</td>\n",
       "      <td>1.0</td>\n",
       "      <td>105.0</td>\n",
       "      <td>10.0</td>\n",
       "      <td>150000</td>\n",
       "      <td>6.0</td>\n",
       "      <td>19.0</td>\n",
       "      <td>0.0</td>\n",
       "    </tr>\n",
       "  </tbody>\n",
       "</table>\n",
       "</div>"
      ],
      "text/plain": [
       "    vehicletype  registrationyear  gearbox  power  model  kilometer  fueltype  \\\n",
       "3           5.0              2001      1.0   75.0  116.0     150000       6.0   \n",
       "4           5.0              2008      1.0   69.0  101.0      90000       2.0   \n",
       "5           4.0              1995      1.0  102.0   11.0     150000       6.0   \n",
       "6           1.0              2004      1.0  109.0    8.0     150000       6.0   \n",
       "10          4.0              2004      1.0  105.0   10.0     150000       6.0   \n",
       "\n",
       "    brand  notrepaired  \n",
       "3    37.0          0.0  \n",
       "4    31.0          0.0  \n",
       "5     2.0          1.0  \n",
       "6    25.0          0.0  \n",
       "10   19.0          0.0  "
      ]
     },
     "execution_count": 48,
     "metadata": {},
     "output_type": "execute_result"
    }
   ],
   "source": [
    "features = data.drop(['datecrawled','price','registrationmonth', 'datecreated', 'numberofpictures','postalcode', 'lastseen'] ,axis=1)\n",
    "target = data['price']\n",
    "cat_features = ['vehicletype','gearbox','model','fueltype','brand','notrepaired']\n",
    "encoder = OrdinalEncoder() \n",
    "encoder.fit(features[cat_features])\n",
    "features[cat_features] = encoder.transform(features[cat_features])\n",
    "features.head()"
   ]
  },
  {
   "cell_type": "code",
   "execution_count": 49,
   "metadata": {},
   "outputs": [
    {
     "name": "stdout",
     "output_type": "stream",
     "text": [
      "{'max_depth': 11, 'n_estimators': 100}\n",
      "Лучший результат, 1690.3583154120063\n"
     ]
    }
   ],
   "source": [
    "boost_model, _ = LightGBM(features, target)"
   ]
  },
  {
   "cell_type": "markdown",
   "metadata": {},
   "source": [
    "Вывод: результат ожидаемо не изменился, т.к. мы только поменяли кодирование."
   ]
  },
  {
   "cell_type": "markdown",
   "metadata": {},
   "source": [
    "### Добавление географии автомобилей\n",
    "Добавим первую цифру из почтового индекса в признаки автомобилей."
   ]
  },
  {
   "cell_type": "code",
   "execution_count": 50,
   "metadata": {},
   "outputs": [
    {
     "data": {
      "text/html": [
       "<div>\n",
       "<style scoped>\n",
       "    .dataframe tbody tr th:only-of-type {\n",
       "        vertical-align: middle;\n",
       "    }\n",
       "\n",
       "    .dataframe tbody tr th {\n",
       "        vertical-align: top;\n",
       "    }\n",
       "\n",
       "    .dataframe thead th {\n",
       "        text-align: right;\n",
       "    }\n",
       "</style>\n",
       "<table border=\"1\" class=\"dataframe\">\n",
       "  <thead>\n",
       "    <tr style=\"text-align: right;\">\n",
       "      <th></th>\n",
       "      <th>vehicletype</th>\n",
       "      <th>registrationyear</th>\n",
       "      <th>gearbox</th>\n",
       "      <th>power</th>\n",
       "      <th>model</th>\n",
       "      <th>kilometer</th>\n",
       "      <th>fueltype</th>\n",
       "      <th>brand</th>\n",
       "      <th>notrepaired</th>\n",
       "      <th>postal_code</th>\n",
       "    </tr>\n",
       "  </thead>\n",
       "  <tbody>\n",
       "    <tr>\n",
       "      <td>3</td>\n",
       "      <td>5.0</td>\n",
       "      <td>2001</td>\n",
       "      <td>1.0</td>\n",
       "      <td>75.0</td>\n",
       "      <td>116.0</td>\n",
       "      <td>150000</td>\n",
       "      <td>6.0</td>\n",
       "      <td>37.0</td>\n",
       "      <td>0.0</td>\n",
       "      <td>9</td>\n",
       "    </tr>\n",
       "    <tr>\n",
       "      <td>4</td>\n",
       "      <td>5.0</td>\n",
       "      <td>2008</td>\n",
       "      <td>1.0</td>\n",
       "      <td>69.0</td>\n",
       "      <td>101.0</td>\n",
       "      <td>90000</td>\n",
       "      <td>2.0</td>\n",
       "      <td>31.0</td>\n",
       "      <td>0.0</td>\n",
       "      <td>6</td>\n",
       "    </tr>\n",
       "    <tr>\n",
       "      <td>5</td>\n",
       "      <td>4.0</td>\n",
       "      <td>1995</td>\n",
       "      <td>1.0</td>\n",
       "      <td>102.0</td>\n",
       "      <td>11.0</td>\n",
       "      <td>150000</td>\n",
       "      <td>6.0</td>\n",
       "      <td>2.0</td>\n",
       "      <td>1.0</td>\n",
       "      <td>3</td>\n",
       "    </tr>\n",
       "    <tr>\n",
       "      <td>6</td>\n",
       "      <td>1.0</td>\n",
       "      <td>2004</td>\n",
       "      <td>1.0</td>\n",
       "      <td>109.0</td>\n",
       "      <td>8.0</td>\n",
       "      <td>150000</td>\n",
       "      <td>6.0</td>\n",
       "      <td>25.0</td>\n",
       "      <td>0.0</td>\n",
       "      <td>6</td>\n",
       "    </tr>\n",
       "    <tr>\n",
       "      <td>10</td>\n",
       "      <td>4.0</td>\n",
       "      <td>2004</td>\n",
       "      <td>1.0</td>\n",
       "      <td>105.0</td>\n",
       "      <td>10.0</td>\n",
       "      <td>150000</td>\n",
       "      <td>6.0</td>\n",
       "      <td>19.0</td>\n",
       "      <td>0.0</td>\n",
       "      <td>9</td>\n",
       "    </tr>\n",
       "  </tbody>\n",
       "</table>\n",
       "</div>"
      ],
      "text/plain": [
       "    vehicletype  registrationyear  gearbox  power  model  kilometer  fueltype  \\\n",
       "3           5.0              2001      1.0   75.0  116.0     150000       6.0   \n",
       "4           5.0              2008      1.0   69.0  101.0      90000       2.0   \n",
       "5           4.0              1995      1.0  102.0   11.0     150000       6.0   \n",
       "6           1.0              2004      1.0  109.0    8.0     150000       6.0   \n",
       "10          4.0              2004      1.0  105.0   10.0     150000       6.0   \n",
       "\n",
       "    brand  notrepaired  postal_code  \n",
       "3    37.0          0.0            9  \n",
       "4    31.0          0.0            6  \n",
       "5     2.0          1.0            3  \n",
       "6    25.0          0.0            6  \n",
       "10   19.0          0.0            9  "
      ]
     },
     "execution_count": 50,
     "metadata": {},
     "output_type": "execute_result"
    }
   ],
   "source": [
    "features['postal_code'] = data['postalcode'].astype('str').str[0].astype('int')\n",
    "features.head()"
   ]
  },
  {
   "cell_type": "code",
   "execution_count": 51,
   "metadata": {},
   "outputs": [
    {
     "name": "stdout",
     "output_type": "stream",
     "text": [
      "{'max_depth': 11, 'n_estimators': 100}\n",
      "Лучший результат, 1689.661750001265\n"
     ]
    }
   ],
   "source": [
    "_, _ = LightGBM(features, target)"
   ]
  },
  {
   "cell_type": "markdown",
   "metadata": {},
   "source": [
    "Вывод: География автомобилей никак не повлияла на результат предсказаний."
   ]
  },
  {
   "cell_type": "markdown",
   "metadata": {},
   "source": [
    "### Ограничение года выпуска автомобилей"
   ]
  },
  {
   "cell_type": "markdown",
   "metadata": {},
   "source": [
    "Ограничим год выпуска автомобилей 2000. Проверим, как это скажется на точности предсказаний."
   ]
  },
  {
   "cell_type": "code",
   "execution_count": 52,
   "metadata": {},
   "outputs": [
    {
     "name": "stdout",
     "output_type": "stream",
     "text": [
      "{'max_depth': 11, 'n_estimators': 100}\n",
      "Лучший результат, 1721.7874758179487\n"
     ]
    }
   ],
   "source": [
    "data_modern = data[data['registrationyear']>=2000]\n",
    "features = data_modern.drop(['datecrawled','price','registrationmonth', 'datecreated', 'numberofpictures', 'postalcode', 'lastseen'] ,axis=1)\n",
    "target = data_modern['price']\n",
    "features[cat_features] = encoder.transform(features[cat_features])\n",
    "_, _ = LightGBM(features, target)"
   ]
  },
  {
   "cell_type": "markdown",
   "metadata": {},
   "source": [
    "Вывод: Стало незначительно хуже."
   ]
  },
  {
   "cell_type": "markdown",
   "metadata": {},
   "source": [
    "### Удаление всех пропусков и артефактов\n",
    "Предобработаемых данные, удалив все пропуски."
   ]
  },
  {
   "cell_type": "code",
   "execution_count": 53,
   "metadata": {},
   "outputs": [
    {
     "data": {
      "text/plain": [
       "232552"
      ]
     },
     "execution_count": 53,
     "metadata": {},
     "output_type": "execute_result"
    }
   ],
   "source": [
    "data_clear = pd.read_csv(\"/datasets/autos.csv\")\n",
    "data_clear.columns = [x.lower() for x in data_clear.columns]\n",
    "data_clear = data_clear.dropna()\n",
    "data_clear = data_clear[(data_clear['power']<=798) & (data_clear['power']>20)]\n",
    "data_clear = data_clear[(data_clear['registrationyear']<=2017) & (data_clear['registrationyear']>1960)]\n",
    "data_clear = data_clear[data_clear['price']>50]\n",
    "data_clear.shape[0]"
   ]
  },
  {
   "cell_type": "markdown",
   "metadata": {},
   "source": [
    "Обучим модель."
   ]
  },
  {
   "cell_type": "code",
   "execution_count": 54,
   "metadata": {},
   "outputs": [
    {
     "name": "stdout",
     "output_type": "stream",
     "text": [
      "{'max_depth': 11, 'n_estimators': 100}\n",
      "Лучший результат, 1662.8946947947882\n"
     ]
    }
   ],
   "source": [
    "parametrs = { 'n_estimators': range (100, 131, 10),\n",
    "                  'max_depth': range (9, 13, 2)}\n",
    "features = data_clear.drop(['datecrawled','price','registrationmonth', 'datecreated', 'numberofpictures', 'postalcode', 'lastseen'] ,axis=1)\n",
    "target = data_clear['price']\n",
    "features[cat_features] = encoder.transform(features[cat_features])\n",
    "_, _ = LightGBM(features, target)"
   ]
  },
  {
   "cell_type": "markdown",
   "metadata": {},
   "source": [
    "Вывод: путем удаления трети датасета удалось совсем незначительно улучшить модель. Возможно это произошло из-за случайности леса, а не из за удаления артефактов и пропусков."
   ]
  },
  {
   "cell_type": "markdown",
   "metadata": {},
   "source": [
    "### Важность факторов"
   ]
  },
  {
   "cell_type": "markdown",
   "metadata": {},
   "source": [
    "Выведем важность различных факторов при предсказаниях."
   ]
  },
  {
   "cell_type": "code",
   "execution_count": 55,
   "metadata": {},
   "outputs": [
    {
     "data": {
      "image/png": "[encoded data removed]",
      "text/plain": [
       "<Figure size 432x288 with 1 Axes>"
      ]
     },
     "metadata": {
      "needs_background": "light"
     },
     "output_type": "display_data"
    }
   ],
   "source": [
    "plot_importance(boost_model, ignore_zero=False);"
   ]
  },
  {
   "cell_type": "markdown",
   "metadata": {},
   "source": [
    "Как видно из графика, самые важные факторы - мощность автомобиля и год его выпуска. Самые незначительные - тип топлива, ремонт и коробка передач."
   ]
  },
  {
   "cell_type": "markdown",
   "metadata": {},
   "source": [
    "## Анализ моделей"
   ]
  },
  {
   "cell_type": "markdown",
   "metadata": {},
   "source": [
    "Проанализируем результаты."
   ]
  },
  {
   "cell_type": "code",
   "execution_count": 56,
   "metadata": {},
   "outputs": [
    {
     "data": {
      "text/html": [
       "<div>\n",
       "<style scoped>\n",
       "    .dataframe tbody tr th:only-of-type {\n",
       "        vertical-align: middle;\n",
       "    }\n",
       "\n",
       "    .dataframe tbody tr th {\n",
       "        vertical-align: top;\n",
       "    }\n",
       "\n",
       "    .dataframe thead th {\n",
       "        text-align: right;\n",
       "    }\n",
       "</style>\n",
       "<table border=\"1\" class=\"dataframe\">\n",
       "  <thead>\n",
       "    <tr style=\"text-align: right;\">\n",
       "      <th></th>\n",
       "      <th>RMSE</th>\n",
       "      <th>Время 1й итерации, секунд</th>\n",
       "      <th>Время предсказания, секунд</th>\n",
       "    </tr>\n",
       "  </thead>\n",
       "  <tbody>\n",
       "    <tr>\n",
       "      <td>Заполнение средним</td>\n",
       "      <td>4669</td>\n",
       "      <td>0.00</td>\n",
       "      <td>0.00</td>\n",
       "    </tr>\n",
       "    <tr>\n",
       "      <td>Линейная регрессия</td>\n",
       "      <td>2595</td>\n",
       "      <td>24.90</td>\n",
       "      <td>0.13</td>\n",
       "    </tr>\n",
       "    <tr>\n",
       "      <td>Случайный лес</td>\n",
       "      <td>1833</td>\n",
       "      <td>287.00</td>\n",
       "      <td>0.70</td>\n",
       "    </tr>\n",
       "    <tr>\n",
       "      <td>LightGBM</td>\n",
       "      <td>1684</td>\n",
       "      <td>10.25</td>\n",
       "      <td>1.18</td>\n",
       "    </tr>\n",
       "  </tbody>\n",
       "</table>\n",
       "</div>"
      ],
      "text/plain": [
       "                    RMSE  Время 1й итерации, секунд  \\\n",
       "Заполнение средним  4669                       0.00   \n",
       "Линейная регрессия  2595                      24.90   \n",
       "Случайный лес       1833                     287.00   \n",
       "LightGBM            1684                      10.25   \n",
       "\n",
       "                    Время предсказания, секунд  \n",
       "Заполнение средним                        0.00  \n",
       "Линейная регрессия                        0.13  \n",
       "Случайный лес                             0.70  \n",
       "LightGBM                                  1.18  "
      ]
     },
     "execution_count": 56,
     "metadata": {},
     "output_type": "execute_result"
    }
   ],
   "source": [
    "result #Время немного другое, потому что я перезапускал ноутбук"
   ]
  },
  {
   "cell_type": "markdown",
   "metadata": {},
   "source": [
    "По итогу:\n",
    "1. Заполнение средним показывает плохой результат, но зато выполняется мнгновенно :)\n",
    "2. Линейная регрессия учится достаточно быстро. Результат её предсказания намного превосходит средний. Также плюсом является отсутствие необходимости перебирать параметры.\n",
    "3. Случайный лес имеет большое преимущество по точности предсказания перед линейной регрессии. Но время 1й итерации является очень долгим. Чтобы первично подобрать параметры пришлось ждать около часа.\n",
    "4. Лидером по точности предсказаний и времени 1й итерации является LightGBM. Перебор параметров занял не много времени, а обучение без перебора происходит быстрее, чем у линейной модели. Небольшим недостатком является самое больше время предсказания из всех обученных моделей."
   ]
  }
 ],
 "metadata": {
  "kernelspec": {
   "display_name": "Python 3",
   "language": "python",
   "name": "python3"
  },
  "language_info": {
   "codemirror_mode": {
    "name": "ipython",
    "version": 3
   },
   "file_extension": ".py",
   "mimetype": "text/x-python",
   "name": "python",
   "nbconvert_exporter": "python",
   "pygments_lexer": "ipython3",
   "version": "3.8.5"
  },
  "toc": {
   "base_numbering": 1,
   "nav_menu": {},
   "number_sections": true,
   "sideBar": true,
   "skip_h1_title": true,
   "title_cell": "Table of Contents",
   "title_sidebar": "Contents",
   "toc_cell": false,
   "toc_position": {},
   "toc_section_display": true,
   "toc_window_display": false
  }
 },
 "nbformat": 4,
 "nbformat_minor": 2
}
